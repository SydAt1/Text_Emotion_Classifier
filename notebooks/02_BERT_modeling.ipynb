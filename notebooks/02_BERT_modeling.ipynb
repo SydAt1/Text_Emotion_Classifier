{
  "cells": [
    {
      "cell_type": "code",
      "execution_count": null,
      "id": "hvIzq06zy20q",
      "metadata": {
        "colab": {
          "base_uri": "https://localhost:8080/"
        },
        "id": "hvIzq06zy20q",
        "outputId": "86afd008-c23b-40cf-9a53-6c6eba9e737c"
      },
      "outputs": [
        {
          "name": "stdout",
          "output_type": "stream",
          "text": [
            "Collecting scikit-multilearn\n",
            "  Downloading scikit_multilearn-0.2.0-py3-none-any.whl.metadata (6.0 kB)\n",
            "Downloading scikit_multilearn-0.2.0-py3-none-any.whl (89 kB)\n",
            "\u001b[?25l   \u001b[90m━━━━━━━━━━━━━━━━━━━━━━━━━━━━━━━━━━━━━━━━\u001b[0m \u001b[32m0.0/89.4 kB\u001b[0m \u001b[31m?\u001b[0m eta \u001b[36m-:--:--\u001b[0m\r\u001b[2K   \u001b[90m━━━━━━━━━━━━━━━━━━━━━━━━━━━━━━━━━━━━━━━━\u001b[0m \u001b[32m89.4/89.4 kB\u001b[0m \u001b[31m4.8 MB/s\u001b[0m eta \u001b[36m0:00:00\u001b[0m\n",
            "\u001b[?25hInstalling collected packages: scikit-multilearn\n",
            "Successfully installed scikit-multilearn-0.2.0\n"
          ]
        }
      ],
      "source": [
        "!pip install scikit-multilearn"
      ]
    },
    {
      "cell_type": "code",
      "execution_count": null,
      "id": "721ac348",
      "metadata": {
        "id": "721ac348"
      },
      "outputs": [],
      "source": [
        "import pandas as pd\n",
        "import numpy as np\n",
        "from sklearn.model_selection import train_test_split\n",
        "from skmultilearn.model_selection import iterative_train_test_split\n",
        "from transformers import DistilBertTokenizer\n",
        "import torch as nn\n",
        "from torch.utils.data import Dataset, DataLoader"
      ]
    },
    {
      "cell_type": "code",
      "execution_count": null,
      "id": "07c54945",
      "metadata": {
        "id": "07c54945"
      },
      "outputs": [],
      "source": [
        "# Custom Dataset class for BERT\n",
        "class EmotionDataset(nn.utils.data.Dataset):\n",
        "    def __init__(self, encodings, labels):\n",
        "        self.encodings = encodings\n",
        "        self.labels = nn.tensor(labels, dtype=nn.float32)  # Multi-label = float32\n",
        "\n",
        "    def __len__(self):\n",
        "        return len(self.labels)\n",
        "\n",
        "    def __getitem__(self, idx):\n",
        "        item = {key: val[idx] for key, val in self.encodings.items()}\n",
        "        item[\"labels\"] = self.labels[idx]\n",
        "        return item"
      ]
    },
    {
      "cell_type": "markdown",
      "id": "8fe789b8",
      "metadata": {
        "id": "8fe789b8"
      },
      "source": [
        "### I had to run it on google colab for doing some finetuning on Nvidia GPU"
      ]
    },
    {
      "cell_type": "code",
      "execution_count": null,
      "id": "wGJtvI1_ynx5",
      "metadata": {
        "colab": {
          "base_uri": "https://localhost:8080/"
        },
        "id": "wGJtvI1_ynx5",
        "outputId": "e7894109-33f1-4ef6-9b96-bdfa6ca1f779"
      },
      "outputs": [
        {
          "name": "stdout",
          "output_type": "stream",
          "text": [
            "Mounted at /content/drive\n"
          ]
        }
      ],
      "source": [
        "from google.colab import drive\n",
        "drive.mount('/content/drive')"
      ]
    },
    {
      "cell_type": "code",
      "execution_count": null,
      "id": "af8813a0",
      "metadata": {
        "id": "af8813a0"
      },
      "outputs": [],
      "source": [
        "# Loading the dataset\n",
        "df = pd.read_csv('/content/drive/MyDrive/Text_Emotion_Classifier-master/dataset/preprocessed_go_emotions.csv')\n",
        "emotion_columns = [\n",
        "    'admiration', 'amusement', 'anger', 'annoyance', 'approval', 'caring',\n",
        "    'confusion', 'curiosity', 'desire', 'disappointment', 'disapproval',\n",
        "    'disgust', 'embarrassment', 'excitement', 'fear', 'gratitude', 'grief',\n",
        "    'joy', 'love', 'nervousness', 'optimism', 'pride', 'realization',\n",
        "    'relief', 'remorse', 'sadness', 'surprise', 'neutral'\n",
        "]\n",
        "\n",
        "texts = df['cleaned_text'].tolist()\n",
        "labels = df[emotion_columns].values.astype('float32')"
      ]
    },
    {
      "cell_type": "code",
      "execution_count": null,
      "id": "512979d9",
      "metadata": {
        "colab": {
          "base_uri": "https://localhost:8080/"
        },
        "id": "512979d9",
        "outputId": "49df3955-3018-4ef0-8831-0db0bc92d33c"
      },
      "outputs": [
        {
          "name": "stdout",
          "output_type": "stream",
          "text": [
            "Number of duplicate rows: 56410\n",
            "df shape: (207814, 31)\n",
            "Number of unique rows: 151404\n"
          ]
        }
      ],
      "source": [
        "print(\"Number of duplicate rows:\", df.duplicated().sum())\n",
        "print(\"df shape:\", df.shape)\n",
        "print(\"Number of unique rows:\", df.drop_duplicates().shape[0])"
      ]
    },
    {
      "cell_type": "code",
      "execution_count": null,
      "id": "5e8d56ea",
      "metadata": {
        "colab": {
          "base_uri": "https://localhost:8080/"
        },
        "id": "5e8d56ea",
        "outputId": "f0134605-80e1-4f15-d6a1-903387026b30"
      },
      "outputs": [
        {
          "name": "stdout",
          "output_type": "stream",
          "text": [
            "df_unique shape: (151404, 31)\n"
          ]
        }
      ],
      "source": [
        "df_unique = df.drop_duplicates()\n",
        "print(\"df_unique shape:\", df_unique.shape)"
      ]
    },
    {
      "cell_type": "code",
      "execution_count": null,
      "id": "d1472ed7",
      "metadata": {
        "id": "d1472ed7"
      },
      "outputs": [],
      "source": [
        "X = df['cleaned_text'].values.reshape(-1, 1)"
      ]
    },
    {
      "cell_type": "code",
      "execution_count": null,
      "id": "3c603160",
      "metadata": {
        "id": "3c603160"
      },
      "outputs": [],
      "source": [
        "# Perform multi-label stratified split\n",
        "X_train, y_train, X_test, y_test = iterative_train_test_split(X, labels, test_size=0.2)\n",
        "# Further split training data for validation\n",
        "val_size = 0.2  # 20% of the training set\n",
        "X_train_new, y_train_new, X_val, y_val = iterative_train_test_split(X_train, y_train, test_size=val_size / (1 - 0.2))"
      ]
    },
    {
      "cell_type": "code",
      "execution_count": null,
      "id": "ec6109ca",
      "metadata": {
        "id": "ec6109ca"
      },
      "outputs": [],
      "source": [
        "# Converting everything to string\n",
        "X_train = [str(x) for x in X_train if x is not None]\n",
        "X_val   = [str(x) for x in X_val if x is not None]\n",
        "X_test  = [str(x) for x in X_test if x is not None]"
      ]
    },
    {
      "cell_type": "code",
      "execution_count": null,
      "id": "acd20b11",
      "metadata": {
        "colab": {
          "base_uri": "https://localhost:8080/",
          "height": 269,
          "referenced_widgets": [
            "3e97fe621bb547329c4545c80554f527",
            "cd159521fb0544c295e6f72853abe876",
            "1d8c4f3a9630418c804e13b8c49a622f",
            "c7bc03d602be43deadb29723e987b392",
            "efeb1be19b6c43fcac7e4530b104190d",
            "d555f5213ad44140b2d74016ce78bf07",
            "4ac74d78973f419d830670e5a494dce9",
            "50b6e226ac774a8dac82a18bde60da40",
            "7fae260477a7480fa671da712de0da56",
            "711cd16a850d404b90d339de7b7ad7b1",
            "1b2e4ff26e214acf92718445ec1352c8",
            "25ddedeff4c24b1082eeca90463aed14",
            "c4247ed7ad184363a9360fac1bc9e126",
            "6282b1776fca483e9ef5883168e6d14c",
            "4ba88e62f44645cc884e46eee2efc3d8",
            "f6b329d1d82a43d8b9f0294c89fdb2bb",
            "38e66497813f40a6bf7717972aa74d68",
            "5842d1422d1b4d3a91a997520f651133",
            "7ba797f1ce304179bcb180ed05d56868",
            "325dd76a4d1648c1a4408c4691419684",
            "b0e77ff19f1846edaf24f260dec720d0",
            "fb6c3b80cb144baeb68ae8939c993b82",
            "ad8915914162446b84c4b2e606420dc2",
            "e809c17b64ae4fab831a8fa2c5d80e48",
            "7456692b0ae0424a8d5d14c90d437879",
            "0bbe669a556a4840b8de9b525f0a1c40",
            "6b3b29af10344777abfcddbf0f977823",
            "94814496aee045a99e503b5b256af656",
            "f93ae57dd5c54f9c8e49755abaf243fa",
            "b26819a4ffbb4f2689af0e5b04ddfd50",
            "2ccf09addb4d4d80a6878eb9b8a1d4bb",
            "5d1a86c7e0944f1397580eb48b30ea89",
            "14aaca051a78488c86e49cffe269984e",
            "2319ef6a299e449da92e326652d6c289",
            "7b25beea3f724ce9b1468a442425b599",
            "11f5b5c17ca44ce5b857d81be065fbd9",
            "0bb43712f28a48c6a523a3c21949ee9c",
            "7691cd22f8394193a36047ab8e45a77b",
            "fc74994f83de46d18001316fba12ad56",
            "f160a43dc68547008c40db3903cd36fd",
            "1bcf2c8c4db044fab614c59cbccb8eb2",
            "4fbed7e86a9a4c218942fb9787fc1e91",
            "7b9ea9170b71455087aa321911aed296",
            "afa352b4b0ed409c9ba13f44be16f761"
          ]
        },
        "id": "acd20b11",
        "outputId": "04a58534-bd2d-4e8d-e66b-5b507b489c5a"
      },
      "outputs": [
        {
          "name": "stderr",
          "output_type": "stream",
          "text": [
            "/usr/local/lib/python3.11/dist-packages/huggingface_hub/utils/_auth.py:94: UserWarning: \n",
            "The secret `HF_TOKEN` does not exist in your Colab secrets.\n",
            "To authenticate with the Hugging Face Hub, create a token in your settings tab (https://huggingface.co/settings/tokens), set it as secret in your Google Colab and restart your session.\n",
            "You will be able to reuse this secret in all of your notebooks.\n",
            "Please note that authentication is recommended but still optional to access public models or datasets.\n",
            "  warnings.warn(\n"
          ]
        },
        {
          "data": {
            "application/vnd.jupyter.widget-view+json": {
              "model_id": "3e97fe621bb547329c4545c80554f527",
              "version_major": 2,
              "version_minor": 0
            },
            "text/plain": [
              "tokenizer_config.json:   0%|          | 0.00/48.0 [00:00<?, ?B/s]"
            ]
          },
          "metadata": {},
          "output_type": "display_data"
        },
        {
          "data": {
            "application/vnd.jupyter.widget-view+json": {
              "model_id": "25ddedeff4c24b1082eeca90463aed14",
              "version_major": 2,
              "version_minor": 0
            },
            "text/plain": [
              "vocab.txt:   0%|          | 0.00/232k [00:00<?, ?B/s]"
            ]
          },
          "metadata": {},
          "output_type": "display_data"
        },
        {
          "data": {
            "application/vnd.jupyter.widget-view+json": {
              "model_id": "ad8915914162446b84c4b2e606420dc2",
              "version_major": 2,
              "version_minor": 0
            },
            "text/plain": [
              "tokenizer.json:   0%|          | 0.00/466k [00:00<?, ?B/s]"
            ]
          },
          "metadata": {},
          "output_type": "display_data"
        },
        {
          "data": {
            "application/vnd.jupyter.widget-view+json": {
              "model_id": "2319ef6a299e449da92e326652d6c289",
              "version_major": 2,
              "version_minor": 0
            },
            "text/plain": [
              "config.json:   0%|          | 0.00/483 [00:00<?, ?B/s]"
            ]
          },
          "metadata": {},
          "output_type": "display_data"
        }
      ],
      "source": [
        "tokenizer = DistilBertTokenizer.from_pretrained('distilbert-base-uncased')\n",
        "\n",
        "def tokenize_texts(texts):\n",
        "    return tokenizer(\n",
        "        texts,\n",
        "        truncation=True,\n",
        "        padding='max_length',\n",
        "        max_length=64, # Originally 128, but for KFold 64, need fast results\n",
        "        return_tensors='pt' # PyTorch tensors instead of TensorFlow\n",
        "    )\n",
        "\n",
        "train_encodings = tokenize_texts(X_train)\n",
        "val_encodings = tokenize_texts(X_val)\n",
        "test_encodings = tokenize_texts(X_test)"
      ]
    },
    {
      "cell_type": "markdown",
      "id": "8c43bf11",
      "metadata": {
        "id": "8c43bf11"
      },
      "source": [
        "### Creating PyTorch Data Loader\n",
        "\n",
        "#### PyTorch provides two data primitives:\n",
        "* Dataset stores the samples and their corresponding labels,\n",
        "* DataLoader wraps an iterable around the Dataset to enable easy access to the samples."
      ]
    },
    {
      "cell_type": "code",
      "execution_count": null,
      "id": "f3b07d6f",
      "metadata": {
        "id": "f3b07d6f"
      },
      "outputs": [],
      "source": [
        "train_dataset = EmotionDataset(train_encodings, y_train)\n",
        "val_dataset   = EmotionDataset(val_encodings, y_val)\n",
        "test_dataset  = EmotionDataset(test_encodings, y_test)\n",
        "\n",
        "train_loader = DataLoader(train_dataset, batch_size=16, shuffle=True)\n",
        "val_loader   = DataLoader(val_dataset, batch_size=16)\n",
        "test_loader  = DataLoader(test_dataset, batch_size=16)\n"
      ]
    },
    {
      "cell_type": "markdown",
      "id": "826faf10",
      "metadata": {
        "id": "826faf10"
      },
      "source": [
        "### Now finally using DistilBERT"
      ]
    },
    {
      "cell_type": "code",
      "execution_count": null,
      "id": "b873f11e",
      "metadata": {
        "colab": {
          "base_uri": "https://localhost:8080/",
          "height": 104,
          "referenced_widgets": [
            "5d6f0093a53049ef9c8feb9058d0aaa2",
            "d559ea7e1a6f4e858c886bb0fef15243",
            "64e115882f184909a918f03fc4c3f745",
            "884274fcd0aa4715a6c5e0cd96c7ffe5",
            "4a359aaf8fd645f6b85c1c565368fef7",
            "26c023d022dc4094a0da68071b587855",
            "ae4ba353dd2940b098f66c1121bedb6b",
            "306439b11955485a8ffc271a8686e108",
            "8d9bbbc197cb43518258622b50933ef7",
            "405bfffd5a8f4023b9eebfc60315cef6",
            "035cecb26e0b4d388d66b6f612694f0e"
          ]
        },
        "id": "b873f11e",
        "outputId": "24a1b7a8-7512-4103-ff1e-d0f86f69e928"
      },
      "outputs": [
        {
          "data": {
            "application/vnd.jupyter.widget-view+json": {
              "model_id": "5d6f0093a53049ef9c8feb9058d0aaa2",
              "version_major": 2,
              "version_minor": 0
            },
            "text/plain": [
              "model.safetensors:   0%|          | 0.00/268M [00:00<?, ?B/s]"
            ]
          },
          "metadata": {},
          "output_type": "display_data"
        },
        {
          "name": "stderr",
          "output_type": "stream",
          "text": [
            "Some weights of DistilBertForSequenceClassification were not initialized from the model checkpoint at distilbert-base-uncased and are newly initialized: ['classifier.bias', 'classifier.weight', 'pre_classifier.bias', 'pre_classifier.weight']\n",
            "You should probably TRAIN this model on a down-stream task to be able to use it for predictions and inference.\n"
          ]
        }
      ],
      "source": [
        "from transformers import DistilBertForSequenceClassification\n",
        "\n",
        "model = DistilBertForSequenceClassification.from_pretrained(\n",
        "    \"distilbert-base-uncased\",\n",
        "    num_labels=28,  # Change this to match your number of emotions\n",
        "    problem_type=\"multi_label_classification\"\n",
        ")"
      ]
    },
    {
      "cell_type": "markdown",
      "id": "b3381d9b",
      "metadata": {
        "id": "b3381d9b"
      },
      "source": [
        "### Setting up Optimizer and Loss function"
      ]
    },
    {
      "cell_type": "code",
      "execution_count": null,
      "id": "7ed8eb34",
      "metadata": {
        "id": "7ed8eb34"
      },
      "outputs": [],
      "source": [
        "from torch.optim import AdamW\n",
        "import torch\n",
        "\n",
        "optimizer = AdamW(model.parameters(), lr=5e-5)\n",
        "\n",
        "# for some reason torch.nn works and nn.BCEWithLogitsLoss() does not\n",
        "loss_fn = torch.nn.BCEWithLogitsLoss()# Binary Cross Entropy for multi-label"
      ]
    },
    {
      "cell_type": "code",
      "execution_count": null,
      "id": "96cac30a",
      "metadata": {
        "colab": {
          "base_uri": "https://localhost:8080/"
        },
        "id": "96cac30a",
        "outputId": "1360d474-b0c5-47df-9d34-4cffb3fcbff0"
      },
      "outputs": [
        {
          "name": "stdout",
          "output_type": "stream",
          "text": [
            "2.7.1+cpu\n"
          ]
        }
      ],
      "source": [
        "import transformers\n",
        "print(nn.__version__)"
      ]
    },
    {
      "cell_type": "code",
      "execution_count": null,
      "id": "6bc3bb51",
      "metadata": {
        "id": "6bc3bb51"
      },
      "outputs": [],
      "source": [
        "import torch\n",
        "from tqdm import tqdm\n",
        "\n",
        "device = torch.device(\"cuda\" if torch.cuda.is_available() else \"cpu\")\n",
        "model = model.to(device)  # Move model to GPU\n",
        "\n",
        "def train_epoch(model, loader, optimizer, loss_fn):\n",
        "    model.train()\n",
        "    total_loss = 0\n",
        "\n",
        "    for batch in tqdm(loader):\n",
        "        # Move batch to device\n",
        "        input_ids = batch[\"input_ids\"].to(device)\n",
        "        attention_mask = batch[\"attention_mask\"].to(device)\n",
        "        labels = batch[\"labels\"].to(device)\n",
        "\n",
        "        # Forward pass\n",
        "        outputs = model(input_ids=input_ids, attention_mask=attention_mask)\n",
        "        logits = outputs.logits\n",
        "\n",
        "        # Compute loss\n",
        "        loss = loss_fn(logits, labels)\n",
        "        total_loss += loss.item()\n",
        "\n",
        "        # Backpropagation\n",
        "        optimizer.zero_grad()\n",
        "        loss.backward()\n",
        "        optimizer.step()\n",
        "\n",
        "    return total_loss / len(loader)\n"
      ]
    },
    {
      "cell_type": "code",
      "execution_count": null,
      "id": "20e1d4b0",
      "metadata": {
        "id": "20e1d4b0"
      },
      "outputs": [],
      "source": [
        "def evaluate(model, loader, loss_fn):\n",
        "    model.eval()\n",
        "    total_loss = 0\n",
        "    all_preds = []\n",
        "    all_labels = []\n",
        "\n",
        "    with torch.no_grad():\n",
        "        for batch in loader:\n",
        "            # Move data to GPU\n",
        "            input_ids = batch[\"input_ids\"].to(device)\n",
        "            attention_mask = batch[\"attention_mask\"].to(device)\n",
        "            labels = batch[\"labels\"].to(device)\n",
        "\n",
        "            # Forward pass\n",
        "            outputs = model(input_ids=input_ids, attention_mask=attention_mask)\n",
        "            logits = outputs.logits\n",
        "\n",
        "            # Compute loss\n",
        "            loss = loss_fn(logits, labels)\n",
        "            total_loss += loss.item()\n",
        "\n",
        "            # Collect predictions and labels on CPU for evaluation\n",
        "            preds = torch.sigmoid(logits).detach().cpu().numpy()\n",
        "            all_preds.extend(preds)\n",
        "            all_labels.extend(labels.cpu().numpy())\n",
        "\n",
        "    return total_loss / len(loader), all_preds, all_labels"
      ]
    },
    {
      "cell_type": "code",
      "execution_count": null,
      "id": "3999138d",
      "metadata": {
        "colab": {
          "base_uri": "https://localhost:8080/"
        },
        "id": "3999138d",
        "outputId": "1ab27c22-6901-4643-aff0-541fe9aae153"
      },
      "outputs": [
        {
          "name": "stderr",
          "output_type": "stream",
          "text": [
            "100%|██████████| 10392/10392 [28:55<00:00,  5.99it/s]\n"
          ]
        },
        {
          "name": "stdout",
          "output_type": "stream",
          "text": [
            "Epoch 1 | Train Loss: 0.1285 | Val Loss: 0.1172\n"
          ]
        },
        {
          "name": "stderr",
          "output_type": "stream",
          "text": [
            "100%|██████████| 10392/10392 [28:59<00:00,  5.97it/s]\n"
          ]
        },
        {
          "name": "stdout",
          "output_type": "stream",
          "text": [
            "Epoch 2 | Train Loss: 0.1179 | Val Loss: 0.1085\n"
          ]
        },
        {
          "name": "stderr",
          "output_type": "stream",
          "text": [
            "100%|██████████| 10392/10392 [28:59<00:00,  5.97it/s]\n"
          ]
        },
        {
          "name": "stdout",
          "output_type": "stream",
          "text": [
            "Epoch 3 | Train Loss: 0.1111 | Val Loss: 0.1000\n"
          ]
        }
      ],
      "source": [
        "for epoch in range(3):  # Adjust based on validation performance\n",
        "    train_loss = train_epoch(model, train_loader, optimizer, loss_fn)\n",
        "    val_loss, val_preds, val_labels = evaluate(model, val_loader, loss_fn)\n",
        "    print(f\"Epoch {epoch+1} | Train Loss: {train_loss:.4f} | Val Loss: {val_loss:.4f}\")"
      ]
    },
    {
      "cell_type": "code",
      "execution_count": null,
      "id": "9fe0a279",
      "metadata": {
        "id": "9fe0a279"
      },
      "outputs": [],
      "source": [
        "save_path = '/content/drive/MyDrive/Text_Emotion_Classifier-master/model'"
      ]
    },
    {
      "cell_type": "code",
      "execution_count": null,
      "id": "ODkmLuLiocNq",
      "metadata": {
        "colab": {
          "base_uri": "https://localhost:8080/"
        },
        "id": "ODkmLuLiocNq",
        "outputId": "62def728-58ce-41bd-9a63-76a630c64b7e"
      },
      "outputs": [
        {
          "data": {
            "text/plain": [
              "('/content/drive/MyDrive/Text_Emotion_Classifier-master/model/tokenizer_config.json',\n",
              " '/content/drive/MyDrive/Text_Emotion_Classifier-master/model/special_tokens_map.json',\n",
              " '/content/drive/MyDrive/Text_Emotion_Classifier-master/model/vocab.txt',\n",
              " '/content/drive/MyDrive/Text_Emotion_Classifier-master/model/added_tokens.json')"
            ]
          },
          "execution_count": 27,
          "metadata": {},
          "output_type": "execute_result"
        }
      ],
      "source": [
        "model.save_pretrained(save_path)\n",
        "tokenizer.save_pretrained(save_path)"
      ]
    },
    {
      "cell_type": "code",
      "execution_count": null,
      "id": "QuuoVdLnKmQW",
      "metadata": {
        "colab": {
          "base_uri": "https://localhost:8080/"
        },
        "id": "QuuoVdLnKmQW",
        "outputId": "3d17081f-1f5e-437a-bce7-09a502337d5b"
      },
      "outputs": [
        {
          "name": "stdout",
          "output_type": "stream",
          "text": [
            "Micro F1-score: 0.4039\n",
            "Macro F1-score: 0.2635\n",
            "\n",
            "Classification Report:\n",
            "              precision    recall  f1-score   support\n",
            "\n",
            "           0       0.70      0.58      0.64      3426\n",
            "           1       0.71      0.51      0.59      1849\n",
            "           2       0.70      0.20      0.31      1617\n",
            "           3       0.82      0.01      0.03      2723\n",
            "           4       0.74      0.08      0.15      3524\n",
            "           5       0.64      0.16      0.25      1200\n",
            "           6       0.83      0.08      0.15      1472\n",
            "           7       0.83      0.11      0.19      1938\n",
            "           8       0.60      0.18      0.28       764\n",
            "           9       0.74      0.03      0.05      1694\n",
            "          10       0.68      0.07      0.13      2285\n",
            "          11       0.84      0.11      0.19      1060\n",
            "          12       0.81      0.08      0.15       495\n",
            "          13       0.80      0.09      0.17      1126\n",
            "          14       0.72      0.35      0.47       640\n",
            "          15       0.91      0.76      0.83      2325\n",
            "          16       0.00      0.00      0.00       135\n",
            "          17       0.72      0.18      0.29      1596\n",
            "          18       0.79      0.49      0.60      1638\n",
            "          19       0.60      0.02      0.05       362\n",
            "          20       0.69      0.26      0.38      1743\n",
            "          21       0.68      0.05      0.09       260\n",
            "          22       0.79      0.01      0.02      1757\n",
            "          23       1.00      0.02      0.04       258\n",
            "          24       0.89      0.05      0.09       505\n",
            "          25       0.75      0.19      0.30      1351\n",
            "          26       0.67      0.26      0.37      1103\n",
            "          27       0.71      0.46      0.55     11060\n",
            "\n",
            "   micro avg       0.73      0.28      0.40     49906\n",
            "   macro avg       0.73      0.19      0.26     49906\n",
            "weighted avg       0.74      0.28      0.36     49906\n",
            " samples avg       0.32      0.30      0.31     49906\n",
            "\n"
          ]
        },
        {
          "name": "stderr",
          "output_type": "stream",
          "text": [
            "/usr/local/lib/python3.11/dist-packages/sklearn/metrics/_classification.py:1565: UndefinedMetricWarning: Precision is ill-defined and being set to 0.0 in labels with no predicted samples. Use `zero_division` parameter to control this behavior.\n",
            "  _warn_prf(average, modifier, f\"{metric.capitalize()} is\", len(result))\n",
            "/usr/local/lib/python3.11/dist-packages/sklearn/metrics/_classification.py:1565: UndefinedMetricWarning: Precision is ill-defined and being set to 0.0 in samples with no predicted labels. Use `zero_division` parameter to control this behavior.\n",
            "  _warn_prf(average, modifier, f\"{metric.capitalize()} is\", len(result))\n"
          ]
        }
      ],
      "source": [
        "from sklearn.metrics import f1_score, classification_report\n",
        "import numpy as np\n",
        "\n",
        "# Convert sigmoid outputs to binary predictions\n",
        "threshold = 0.5\n",
        "val_preds_bin = (np.array(val_preds) >= threshold).astype(int)\n",
        "val_labels_bin = np.array(val_labels)\n",
        "\n",
        "# Compute micro and macro F1-scores\n",
        "micro_f1 = f1_score(val_labels_bin, val_preds_bin, average='micro')\n",
        "macro_f1 = f1_score(val_labels_bin, val_preds_bin, average='macro')\n",
        "\n",
        "print(f\"Micro F1-score: {micro_f1:.4f}\")\n",
        "print(f\"Macro F1-score: {macro_f1:.4f}\")\n",
        "\n",
        "# Detailed report for each label\n",
        "print(\"\\nClassification Report:\")\n",
        "print(classification_report(val_labels_bin, val_preds_bin))\n"
      ]
    },
    {
      "cell_type": "code",
      "execution_count": null,
      "id": "85Oy_ZjsNpgX",
      "metadata": {
        "id": "85Oy_ZjsNpgX"
      },
      "outputs": [],
      "source": [
        "def predict_text(text, threshold=0.5):\n",
        "    # Tokenize input\n",
        "    inputs = tokenizer(\n",
        "        text,\n",
        "        return_tensors=\"pt\",\n",
        "        truncation=True,\n",
        "        padding=True,\n",
        "        max_length=128\n",
        "    ).to(device)\n",
        "\n",
        "    # Get model output\n",
        "    with torch.no_grad():\n",
        "        outputs = model(**inputs)\n",
        "        logits = outputs.logits\n",
        "        probs = torch.sigmoid(logits).cpu().numpy()[0]\n",
        "\n",
        "    # Convert probabilities to binary predictions\n",
        "    predictions = (probs >= threshold).astype(int)\n",
        "    return probs, predictions\n"
      ]
    },
    {
      "cell_type": "code",
      "execution_count": null,
      "id": "W2B3KeTdNwa0",
      "metadata": {
        "colab": {
          "base_uri": "https://localhost:8080/"
        },
        "id": "W2B3KeTdNwa0",
        "outputId": "4282f6ce-460a-4785-cc01-8390cb15a3f1"
      },
      "outputs": [
        {
          "name": "stdout",
          "output_type": "stream",
          "text": [
            "Probabilities: [1.8512140e-01 9.2636617e-03 6.2307529e-04 2.3495404e-03 6.6432841e-02\n",
            " 7.1975686e-02 1.9946822e-03 9.7028259e-03 1.7467787e-02 4.3959687e-03\n",
            " 6.1273761e-03 4.2760267e-04 6.9467380e-04 1.5030392e-01 2.4633360e-04\n",
            " 2.6239330e-01 2.4077210e-04 6.1180192e-01 2.4258377e-02 4.9121544e-04\n",
            " 7.0494175e-02 1.8043924e-02 6.6256006e-03 3.2224089e-02 8.1233220e-04\n",
            " 2.7415599e-03 5.7514161e-03 3.8587768e-02]\n",
            "Predictions: [0 0 0 0 0 0 0 0 0 0 0 0 0 0 0 0 0 1 0 0 0 0 0 0 0 0 0 0]\n"
          ]
        }
      ],
      "source": [
        "text = \"I am so happy and grateful today!\"\n",
        "probs, preds = predict_text(text)\n",
        "\n",
        "print(\"Probabilities:\", probs)\n",
        "print(\"Predictions:\", preds)  # 1 = label is active"
      ]
    },
    {
      "cell_type": "code",
      "execution_count": null,
      "id": "ZEbud-j-NzIG",
      "metadata": {
        "colab": {
          "base_uri": "https://localhost:8080/"
        },
        "id": "ZEbud-j-NzIG",
        "outputId": "14017ca6-b242-4971-f6a8-f80ce1a6415f"
      },
      "outputs": [
        {
          "name": "stdout",
          "output_type": "stream",
          "text": [
            "Predicted labels: ['joy']\n"
          ]
        }
      ],
      "source": [
        "labels = emotion_columns\n",
        "active_labels = [labels[i] for i, p in enumerate(preds) if p == 1]\n",
        "print(\"Predicted labels:\", active_labels)"
      ]
    },
    {
      "cell_type": "markdown",
      "id": "9596d0ae",
      "metadata": {
        "id": "9596d0ae"
      },
      "source": [
        "### I am going to load the data here"
      ]
    },
    {
      "cell_type": "code",
      "execution_count": null,
      "id": "be7c29bc",
      "metadata": {
        "id": "be7c29bc"
      },
      "outputs": [],
      "source": [
        "from transformers import AutoModelForSequenceClassification, AutoTokenizer"
      ]
    },
    {
      "cell_type": "code",
      "execution_count": null,
      "id": "f780cf62",
      "metadata": {
        "id": "f780cf62"
      },
      "outputs": [],
      "source": [
        "model_path = \"/content/drive/MyDrive/Text_Emotion_Classifier-master/model\"\n",
        "\n",
        "model = AutoModelForSequenceClassification.from_pretrained(model_path)\n",
        "tokenizer = AutoTokenizer.from_pretrained(model_path)"
      ]
    },
    {
      "cell_type": "code",
      "execution_count": null,
      "id": "41c953d6",
      "metadata": {
        "colab": {
          "base_uri": "https://localhost:8080/"
        },
        "id": "41c953d6",
        "outputId": "5b4b73a6-1eae-4e08-f0d5-beb4673c876c"
      },
      "outputs": [
        {
          "name": "stdout",
          "output_type": "stream",
          "text": [
            "Drive already mounted at /content/drive; to attempt to forcibly remount, call drive.mount(\"/content/drive\", force_remount=True).\n",
            "Starting Fold 1\n"
          ]
        },
        {
          "name": "stderr",
          "output_type": "stream",
          "text": [
            "100%|██████████| 8659/8659 [13:38<00:00, 10.58it/s]\n"
          ]
        },
        {
          "name": "stdout",
          "output_type": "stream",
          "text": [
            "Epoch 1 | Train Loss: 0.1042 | Val Loss: 0.1029\n"
          ]
        },
        {
          "name": "stderr",
          "output_type": "stream",
          "text": [
            "100%|██████████| 8659/8659 [13:39<00:00, 10.57it/s]\n"
          ]
        },
        {
          "name": "stdout",
          "output_type": "stream",
          "text": [
            "Epoch 2 | Train Loss: 0.0979 | Val Loss: 0.1054\n",
            "✅ Fold 1 saved to Google Drive!\n",
            "Starting Fold 2\n"
          ]
        },
        {
          "name": "stderr",
          "output_type": "stream",
          "text": [
            "100%|██████████| 8659/8659 [13:39<00:00, 10.56it/s]\n"
          ]
        },
        {
          "name": "stdout",
          "output_type": "stream",
          "text": [
            "Epoch 1 | Train Loss: 0.1044 | Val Loss: 0.1024\n"
          ]
        },
        {
          "name": "stderr",
          "output_type": "stream",
          "text": [
            "100%|██████████| 8659/8659 [13:39<00:00, 10.57it/s]\n"
          ]
        },
        {
          "name": "stdout",
          "output_type": "stream",
          "text": [
            "Epoch 2 | Train Loss: 0.0979 | Val Loss: 0.1052\n",
            "✅ Fold 2 saved to Google Drive!\n",
            "Starting Fold 3\n"
          ]
        },
        {
          "name": "stderr",
          "output_type": "stream",
          "text": [
            "100%|██████████| 8659/8659 [13:38<00:00, 10.58it/s]\n"
          ]
        },
        {
          "name": "stdout",
          "output_type": "stream",
          "text": [
            "Epoch 1 | Train Loss: 0.1043 | Val Loss: 0.1024\n"
          ]
        },
        {
          "name": "stderr",
          "output_type": "stream",
          "text": [
            "100%|██████████| 8659/8659 [13:38<00:00, 10.58it/s]\n"
          ]
        },
        {
          "name": "stdout",
          "output_type": "stream",
          "text": [
            "Epoch 2 | Train Loss: 0.0980 | Val Loss: 0.1051\n",
            "✅ Fold 3 saved to Google Drive!\n"
          ]
        }
      ],
      "source": [
        "from sklearn.model_selection import KFold\n",
        "import numpy as np\n",
        "import os\n",
        "import torch\n",
        "\n",
        "device = torch.device(\"cuda\" if torch.cuda.is_available() else \"cpu\")\n",
        "\n",
        "# Mount Google Drive first\n",
        "from google.colab import drive\n",
        "drive.mount('/content/drive')\n",
        "\n",
        "save_dir = \"/content/drive/MyDrive/Text_Emotion_Classifier-master/model/Kfold\"\n",
        "os.makedirs(save_dir, exist_ok=True)\n",
        "\n",
        "kf = KFold(n_splits=3, shuffle=True, random_state=42)\n",
        "\n",
        "for fold, (train_index, val_index) in enumerate(kf.split(X)):\n",
        "    fold_path = os.path.join(save_dir, f\"fold{fold+1}_model\")\n",
        "\n",
        "    # Skip if already trained and saved\n",
        "    if os.path.exists(fold_path):\n",
        "        print(f\"Fold {fold+1} already trained, skipping...\")\n",
        "        continue\n",
        "\n",
        "    print(f\"Starting Fold {fold + 1}\")\n",
        "\n",
        "    # First just split data\n",
        "    X_train = [str(X[i]) for i in train_index]\n",
        "    X_val   = [str(X[i]) for i in val_index]\n",
        "    y_train, y_val = labels[train_index], labels[val_index]\n",
        "\n",
        "    # Second tokenize that\n",
        "    train_encodings = tokenize_texts(X_train)\n",
        "    val_encodings   = tokenize_texts(X_val)\n",
        "\n",
        "    # Third create Datasets and DataLoaders\n",
        "    train_dataset = EmotionDataset(train_encodings, y_train)\n",
        "    val_dataset   = EmotionDataset(val_encodings, y_val)\n",
        "\n",
        "    train_loader = DataLoader(train_dataset, batch_size=16, shuffle=True)\n",
        "    val_loader   = DataLoader(val_dataset, batch_size=16)\n",
        "\n",
        "    # Initialize model and optimizer\n",
        "    model = AutoModelForSequenceClassification.from_pretrained(model_path)\n",
        "    model.to(device)\n",
        "    optimizer = torch.optim.AdamW(model.parameters(), lr=2e-5)\n",
        "    loss_fn = torch.nn.BCEWithLogitsLoss()\n",
        "\n",
        "    # 5. Training loop\n",
        "    for epoch in range(2):\n",
        "        train_loss = train_epoch(model, train_loader, optimizer, loss_fn)\n",
        "        val_loss, val_preds, val_labels = evaluate(model, val_loader, loss_fn)\n",
        "        print(f\"Epoch {epoch+1} | Train Loss: {train_loss:.4f} | Val Loss: {val_loss:.4f}\")\n",
        "\n",
        "    # 6. Save after each fold\n",
        "    model.save_pretrained(fold_path)\n",
        "    tokenizer.save_pretrained(fold_path)\n",
        "    np.save(os.path.join(save_dir, f\"fold{fold+1}_val_preds.npy\"), val_preds)\n",
        "    np.save(os.path.join(save_dir, f\"fold{fold+1}_val_labels.npy\"), val_labels)\n",
        "    print(f\"✅ Fold {fold+1} saved to Google Drive!\")\n"
      ]
    },
    {
      "cell_type": "code",
      "execution_count": null,
      "id": "5d7f7cc6",
      "metadata": {
        "colab": {
          "base_uri": "https://localhost:8080/"
        },
        "id": "5d7f7cc6",
        "outputId": "8c34f27e-2c4b-4abb-a39d-dca599b7cc1b"
      },
      "outputs": [
        {
          "name": "stdout",
          "output_type": "stream",
          "text": [
            "Overall F1 score across folds: 0.4134\n"
          ]
        }
      ],
      "source": [
        "from sklearn.metrics import f1_score\n",
        "\n",
        "val_preds_all = []\n",
        "val_labels_all = []\n",
        "\n",
        "for fold in range(1, 4):\n",
        "    preds = np.load(f\"/content/drive/MyDrive/Text_Emotion_Classifier-master/model/Kfold/fold{fold}_val_preds.npy\")\n",
        "    labels = np.load(f\"/content/drive/MyDrive/Text_Emotion_Classifier-master/model/Kfold/fold{fold}_val_labels.npy\")\n",
        "    val_preds_all.append(preds)\n",
        "    val_labels_all.append(labels)\n",
        "\n",
        "val_preds_all = np.concatenate(val_preds_all, axis=0)\n",
        "val_labels_all = np.concatenate(val_labels_all, axis=0)\n",
        "\n",
        "# Assuming multi-label sigmoid outputs, threshold preds at 0.5 for binary predictions\n",
        "val_preds_binary = (val_preds_all >= 0.5).astype(int)\n",
        "\n",
        "f1 = f1_score(val_labels_all, val_preds_binary, average='micro')\n",
        "print(f\"Overall F1 score across folds: {f1:.4f}\")"
      ]
    },
    {
      "cell_type": "code",
      "execution_count": null,
      "id": "tIHre1-Vmc38",
      "metadata": {
        "colab": {
          "base_uri": "https://localhost:8080/"
        },
        "id": "tIHre1-Vmc38",
        "outputId": "301839b4-76eb-4df2-b50d-25f4b8e7bcab"
      },
      "outputs": [
        {
          "name": "stdout",
          "output_type": "stream",
          "text": [
            "Already tuned hyperparameters and folds:\n",
            "  lr=5e-05, bs=8 -> folds: [1, 2, 3]\n",
            "  lr=5e-05, bs=16 -> folds: [3]\n"
          ]
        }
      ],
      "source": [
        "import os\n",
        "import re\n",
        "\n",
        "def get_completed_hyperparams(save_dir):\n",
        "    \"\"\"\n",
        "    Checks which hyperparameter combinations have already been trained\n",
        "    based on saved folders like best_model_lr{lr}_bs{bs}_fold{fold}.\n",
        "\n",
        "    Returns:\n",
        "        dict: {(lr, bs): [folds_completed]}\n",
        "    \"\"\"\n",
        "    completed = {}\n",
        "\n",
        "    # Regex to capture lr, bs, fold info\n",
        "    pattern = re.compile(r'best_model_lr([\\d\\.e-]+)_bs(\\d+)_fold(\\d+)')\n",
        "\n",
        "    for folder in os.listdir(save_dir):\n",
        "        match = pattern.match(folder)\n",
        "        if match:\n",
        "            lr = float(match.group(1))\n",
        "            bs = int(match.group(2))\n",
        "            fold = int(match.group(3))\n",
        "\n",
        "            completed.setdefault((lr, bs), []).append(fold)\n",
        "\n",
        "    return completed\n",
        "\n",
        "# Example usage:\n",
        "save_dir = \"/content/drive/MyDrive/Text_Emotion_Classifier-master/model/Hypermeter_tuning\"\n",
        "completed = get_completed_hyperparams(save_dir)\n",
        "\n",
        "print(\"Already tuned hyperparameters and folds:\")\n",
        "for (lr, bs), folds in completed.items():\n",
        "    print(f\"  lr={lr}, bs={bs} -> folds: {sorted(folds)}\")\n"
      ]
    },
    {
      "cell_type": "code",
      "execution_count": null,
      "id": "BCC4igtsndXZ",
      "metadata": {
        "colab": {
          "base_uri": "https://localhost:8080/"
        },
        "id": "BCC4igtsndXZ",
        "outputId": "523adc05-f3c5-4f28-8f94-70810e65bbd1"
      },
      "outputs": [
        {
          "name": "stdout",
          "output_type": "stream",
          "text": [
            "Using 207814 samples (min of X: 207814, labels: 207814)\n",
            "Already tuned hyperparameters and folds:\n",
            "  lr=5e-05, bs=8 -> folds: [1, 2, 3]\n",
            "  lr=5e-05, bs=16 -> folds: [3]\n"
          ]
        }
      ],
      "source": [
        "learning_rates = [5e-5, 2e-5, 1e-5]\n",
        "batch_sizes = [8, 16]\n",
        "\n",
        "min_length = min(len(X), len(labels))\n",
        "print(f\"Using {min_length} samples (min of X: {len(X)}, labels: {len(labels)})\")\n",
        "\n",
        "X_subset = X[:min_length]\n",
        "labels_subset = labels[:min_length]\n",
        "\n",
        "kf = KFold(n_splits=3, shuffle=True, random_state=42)\n",
        "\n",
        "save_dir = \"/content/drive/MyDrive/Text_Emotion_Classifier-master/model/Hypermeter_tuning\"\n",
        "os.makedirs(save_dir, exist_ok=True)\n",
        "\n",
        "# Get which folds are already completed\n",
        "completed = get_completed_hyperparams(save_dir)\n",
        "print(\"Already tuned hyperparameters and folds:\")\n",
        "for (lr, bs), folds in completed.items():\n",
        "    print(f\"  lr={lr}, bs={bs} -> folds: {sorted(folds)}\")\n",
        "\n",
        "best_val_loss = float('inf')\n",
        "best_params = {}"
      ]
    },
    {
      "cell_type": "code",
      "execution_count": null,
      "id": "19vXYlnBnhuh",
      "metadata": {
        "colab": {
          "base_uri": "https://localhost:8080/"
        },
        "id": "19vXYlnBnhuh",
        "outputId": "c8357dd1-deb5-4cee-e59f-dd643570d691"
      },
      "outputs": [
        {
          "name": "stdout",
          "output_type": "stream",
          "text": [
            "\n",
            "=== Testing lr=5e-05, batch_size=8 ===\n",
            " Skipping fold 1 (already trained)\n",
            " Skipping fold 2 (already trained)\n",
            " Skipping fold 3 (already trained)\n",
            " All folds already trained for this hyperparameter set.\n",
            "\n",
            "=== Testing lr=5e-05, batch_size=16 ===\n",
            " Training fold 1\n"
          ]
        },
        {
          "name": "stderr",
          "output_type": "stream",
          "text": [
            "100%|██████████| 8659/8659 [13:33<00:00, 10.64it/s]\n",
            "100%|██████████| 8659/8659 [13:34<00:00, 10.64it/s]\n"
          ]
        },
        {
          "name": "stdout",
          "output_type": "stream",
          "text": [
            " Training fold 2\n"
          ]
        },
        {
          "name": "stderr",
          "output_type": "stream",
          "text": [
            "100%|██████████| 8659/8659 [13:33<00:00, 10.64it/s]\n",
            "100%|██████████| 8659/8659 [13:34<00:00, 10.63it/s]\n"
          ]
        },
        {
          "name": "stdout",
          "output_type": "stream",
          "text": [
            " Skipping fold 3 (already trained)\n",
            " Avg validation loss: 0.1118\n",
            "\n",
            "=== Testing lr=2e-05, batch_size=8 ===\n",
            " Training fold 1\n"
          ]
        },
        {
          "name": "stderr",
          "output_type": "stream",
          "text": [
            "100%|██████████| 17318/17318 [17:07<00:00, 16.85it/s]\n",
            "100%|██████████| 17318/17318 [17:10<00:00, 16.80it/s]\n"
          ]
        },
        {
          "name": "stdout",
          "output_type": "stream",
          "text": [
            " Training fold 2\n"
          ]
        },
        {
          "name": "stderr",
          "output_type": "stream",
          "text": [
            "100%|██████████| 17318/17318 [17:10<00:00, 16.81it/s]\n",
            "100%|██████████| 17318/17318 [17:06<00:00, 16.87it/s]\n"
          ]
        },
        {
          "name": "stdout",
          "output_type": "stream",
          "text": [
            " Training fold 3\n"
          ]
        },
        {
          "name": "stderr",
          "output_type": "stream",
          "text": [
            "100%|██████████| 17318/17318 [17:06<00:00, 16.87it/s]\n",
            "100%|██████████| 17318/17318 [16:59<00:00, 16.98it/s]\n"
          ]
        },
        {
          "name": "stdout",
          "output_type": "stream",
          "text": [
            " Avg validation loss: 0.1073\n",
            "\n",
            "=== Testing lr=2e-05, batch_size=16 ===\n",
            " Training fold 1\n"
          ]
        },
        {
          "name": "stderr",
          "output_type": "stream",
          "text": [
            "100%|██████████| 8659/8659 [13:29<00:00, 10.70it/s]\n",
            "100%|██████████| 8659/8659 [13:29<00:00, 10.69it/s]\n"
          ]
        },
        {
          "name": "stdout",
          "output_type": "stream",
          "text": [
            " Training fold 2\n"
          ]
        },
        {
          "name": "stderr",
          "output_type": "stream",
          "text": [
            " 29%|██▉       | 2548/8659 [03:58<09:36, 10.60it/s]"
          ]
        }
      ],
      "source": [
        "for lr, batch_size in itertools.product(learning_rates, batch_sizes):\n",
        "    print(f\"\\n=== Testing lr={lr}, batch_size={batch_size} ===\")\n",
        "    val_losses = []\n",
        "\n",
        "    folds_done = completed.get((lr, batch_size), [])\n",
        "\n",
        "    for fold, (train_index, val_index) in enumerate(kf.split(X_subset)):\n",
        "        fold_num = fold + 1\n",
        "\n",
        "        # Skipping already done folds\n",
        "        if fold_num in folds_done:\n",
        "            print(f\" Skipping fold {fold_num} (already trained)\")\n",
        "            continue\n",
        "\n",
        "        print(f\" Training fold {fold_num}\")\n",
        "\n",
        "        X_train = [str(X_subset[i]) for i in train_index]\n",
        "        X_val = [str(X_subset[i]) for i in val_index]\n",
        "        y_train = [labels_subset[i] for i in train_index]\n",
        "        y_val = [labels_subset[i] for i in val_index]\n",
        "\n",
        "        train_encodings = tokenize_texts(X_train)\n",
        "        val_encodings = tokenize_texts(X_val)\n",
        "\n",
        "        train_dataset = EmotionDataset(train_encodings, y_train)\n",
        "        val_dataset = EmotionDataset(val_encodings, y_val)\n",
        "\n",
        "        train_loader = DataLoader(train_dataset, batch_size=batch_size, shuffle=True)\n",
        "        val_loader = DataLoader(val_dataset, batch_size=batch_size)\n",
        "\n",
        "        model = AutoModelForSequenceClassification.from_pretrained(model_path)\n",
        "        model.to(device)\n",
        "        optimizer = torch.optim.AdamW(model.parameters(), lr=lr)\n",
        "        loss_fn = torch.nn.BCEWithLogitsLoss()\n",
        "\n",
        "        for epoch in range(2):  # short tuning\n",
        "            train_loss = train_epoch(model, train_loader, optimizer, loss_fn)\n",
        "            val_loss, val_preds, val_labels = evaluate(model, val_loader, loss_fn)\n",
        "\n",
        "        val_losses.append(val_loss)\n",
        "\n",
        "        # Save if best so far\n",
        "        if val_loss < best_val_loss:\n",
        "            best_val_loss = val_loss\n",
        "            best_params = {'learning_rate': lr, 'batch_size': batch_size}\n",
        "\n",
        "            fold_path = os.path.join(save_dir, f\"best_model_lr{lr}_bs{batch_size}_fold{fold_num}\")\n",
        "            os.makedirs(fold_path, exist_ok=True)\n",
        "            model.save_pretrained(fold_path)\n",
        "            tokenizer.save_pretrained(fold_path)\n",
        "            np.save(os.path.join(fold_path, \"val_preds.npy\"), val_preds)\n",
        "            np.save(os.path.join(fold_path, \"val_labels.npy\"), val_labels)\n",
        "\n",
        "    if val_losses:  # Only compute avg if we trained something\n",
        "        avg_val_loss = sum(val_losses) / len(val_losses)\n",
        "        print(f\" Avg validation loss: {avg_val_loss:.4f}\")\n",
        "    else:\n",
        "        print(\" All folds already trained for this hyperparameter set.\")\n",
        "\n",
        "print(f\"\\nBest params: {best_params} with val loss: {best_val_loss:.4f}\")"
      ]
    },
    {
      "cell_type": "markdown",
      "id": "7c11da37",
      "metadata": {},
      "source": [
        "### Compute Resource finished"
      ]
    },
    {
      "cell_type": "code",
      "execution_count": null,
      "id": "C518F2Xyb8cM",
      "metadata": {
        "id": "C518F2Xyb8cM"
      },
      "outputs": [],
      "source": [
        "import itertools\n",
        "\n",
        "# Define hyperparameter grid\n",
        "learning_rates = [5e-5, 2e-5, 1e-5]\n",
        "batch_sizes = [8, 16]\n",
        "\n",
        "# Fixing the data length mismatch BEFORE creating KFold\n",
        "min_length = min(len(X), len(labels))\n",
        "print(f\"Using {min_length} samples (min of X: {len(X)}, labels: {len(labels)})\")\n",
        "\n",
        "# Creating arrays with matching lengths\n",
        "X_subset = X[:min_length]  # Take first min_length elements\n",
        "labels_subset = labels[:min_length]  # Take first min_length elements\n",
        "\n",
        "kf = KFold(n_splits=3, shuffle=True, random_state=42)\n",
        "\n",
        "save_dir = \"/content/drive/MyDrive/Text_Emotion_Classifier-master/model/Hypermeter_tuning\"\n",
        "os.makedirs(save_dir, exist_ok=True)\n",
        "\n",
        "best_val_loss = float('inf')\n",
        "best_params = {}\n",
        "\n",
        "for lr, batch_size in itertools.product(learning_rates, batch_sizes):\n",
        "    print(f\"Testing lr={lr}, batch_size={batch_size}\")\n",
        "\n",
        "    val_losses = []\n",
        "\n",
        "    print(f\"Length of X_subset: {len(X_subset)}\")\n",
        "    print(f\"Length of labels_subset: {len(labels_subset)}\")\n",
        "\n",
        "    # Now split the properly sized data\n",
        "    for fold, (train_index, val_index) in enumerate(kf.split(X_subset)):\n",
        "        print(f\" Fold {fold+1}\")\n",
        "\n",
        "        X_train = [str(X_subset[i]) for i in train_index]\n",
        "        X_val = [str(X_subset[i]) for i in val_index]\n",
        "        y_train = [labels_subset[i] for i in train_index]\n",
        "        y_val = [labels_subset[i] for i in val_index]\n",
        "\n",
        "        train_encodings = tokenize_texts(X_train)\n",
        "        val_encodings = tokenize_texts(X_val)\n",
        "\n",
        "        train_dataset = EmotionDataset(train_encodings, y_train)\n",
        "        val_dataset = EmotionDataset(val_encodings, y_val)\n",
        "\n",
        "        train_loader = DataLoader(train_dataset, batch_size=batch_size, shuffle=True)\n",
        "        val_loader = DataLoader(val_dataset, batch_size=batch_size)\n",
        "\n",
        "        model = AutoModelForSequenceClassification.from_pretrained(model_path)\n",
        "        model.to(device)\n",
        "        optimizer = torch.optim.AdamW(model.parameters(), lr=lr)\n",
        "        loss_fn = torch.nn.BCEWithLogitsLoss()\n",
        "\n",
        "        for epoch in range(2):  # keep epochs low for tuning speed\n",
        "            train_loss = train_epoch(model, train_loader, optimizer, loss_fn)\n",
        "            val_loss, val_preds, val_labels = evaluate(model, val_loader, loss_fn)\n",
        "\n",
        "        val_losses.append(val_loss)\n",
        "\n",
        "        # Save fold model for this hyperparam combo if best so far\n",
        "        if val_loss < best_val_loss:\n",
        "            best_val_loss = val_loss\n",
        "            best_params = {'learning_rate': lr, 'batch_size': batch_size}\n",
        "\n",
        "            # Save model & tokenizer to a subfolder with hyperparams info\n",
        "            fold_path = os.path.join(save_dir, f\"best_model_lr{lr}_bs{batch_size}_fold{fold+1}\")\n",
        "            os.makedirs(fold_path, exist_ok=True)\n",
        "            model.save_pretrained(fold_path)\n",
        "            tokenizer.save_pretrained(fold_path)\n",
        "            np.save(os.path.join(fold_path, \"val_preds.npy\"), val_preds)\n",
        "            np.save(os.path.join(fold_path, \"val_labels.npy\"), val_labels)\n",
        "\n",
        "    avg_val_loss = sum(val_losses) / len(val_losses)\n",
        "    print(f\" Avg validation loss for lr={lr}, batch_size={batch_size}: {avg_val_loss:.4f}\")\n",
        "\n",
        "print(f\"\\nBest params: {best_params} with val loss: {best_val_loss:.4f}\")"
      ]
    },
    {
      "cell_type": "code",
      "execution_count": null,
      "id": "OCbijnXlmJDl",
      "metadata": {
        "id": "OCbijnXlmJDl"
      },
      "outputs": [],
      "source": []
    },
    {
      "cell_type": "code",
      "execution_count": null,
      "id": "D4QmE7fH0c7b",
      "metadata": {
        "colab": {
          "base_uri": "https://localhost:8080/"
        },
        "id": "D4QmE7fH0c7b",
        "outputId": "feb9da81-446f-420b-ec22-2cf034fb06f0"
      },
      "outputs": [
        {
          "name": "stdout",
          "output_type": "stream",
          "text": [
            "(207814, 1) (69271, 28)\n"
          ]
        }
      ],
      "source": [
        "print(X.shape, labels.shape)"
      ]
    },
    {
      "cell_type": "code",
      "execution_count": null,
      "id": "YK2F1bYt1S75",
      "metadata": {
        "colab": {
          "base_uri": "https://localhost:8080/"
        },
        "id": "YK2F1bYt1S75",
        "outputId": "1eac09c3-ef44-4df4-86c8-213687b8c0ec"
      },
      "outputs": [
        {
          "data": {
            "text/plain": [
              "array([[0., 0., 0., ..., 0., 0., 0.],\n",
              "       [0., 0., 0., ..., 0., 0., 0.],\n",
              "       [0., 1., 0., ..., 0., 0., 0.],\n",
              "       ...,\n",
              "       [0., 0., 0., ..., 0., 0., 1.],\n",
              "       [0., 0., 0., ..., 0., 0., 1.],\n",
              "       [0., 0., 0., ..., 0., 0., 0.]], dtype=float32)"
            ]
          },
          "execution_count": 28,
          "metadata": {},
          "output_type": "execute_result"
        }
      ],
      "source": [
        "labels"
      ]
    },
    {
      "cell_type": "code",
      "execution_count": null,
      "id": "mAg-6ngn1nzf",
      "metadata": {
        "id": "mAg-6ngn1nzf"
      },
      "outputs": [],
      "source": []
    }
  ],
  "metadata": {
    "accelerator": "GPU",
    "colab": {
      "gpuType": "T4",
      "provenance": []
    },
    "kernelspec": {
      "display_name": "Python 3",
      "name": "python3"
    },
    "language_info": {
      "codemirror_mode": {
        "name": "ipython",
        "version": 3
      },
      "file_extension": ".py",
      "mimetype": "text/x-python",
      "name": "python",
      "nbconvert_exporter": "python",
      "pygments_lexer": "ipython3",
      "version": "3.13.2"
    },
    "widgets": {
      "application/vnd.jupyter.widget-state+json": {
        "035cecb26e0b4d388d66b6f612694f0e": {
          "model_module": "@jupyter-widgets/controls",
          "model_module_version": "1.5.0",
          "model_name": "DescriptionStyleModel",
          "state": {
            "_model_module": "@jupyter-widgets/controls",
            "_model_module_version": "1.5.0",
            "_model_name": "DescriptionStyleModel",
            "_view_count": null,
            "_view_module": "@jupyter-widgets/base",
            "_view_module_version": "1.2.0",
            "_view_name": "StyleView",
            "description_width": ""
          }
        },
        "0bb43712f28a48c6a523a3c21949ee9c": {
          "model_module": "@jupyter-widgets/controls",
          "model_module_version": "1.5.0",
          "model_name": "HTMLModel",
          "state": {
            "_dom_classes": [],
            "_model_module": "@jupyter-widgets/controls",
            "_model_module_version": "1.5.0",
            "_model_name": "HTMLModel",
            "_view_count": null,
            "_view_module": "@jupyter-widgets/controls",
            "_view_module_version": "1.5.0",
            "_view_name": "HTMLView",
            "description": "",
            "description_tooltip": null,
            "layout": "IPY_MODEL_7b9ea9170b71455087aa321911aed296",
            "placeholder": "​",
            "style": "IPY_MODEL_afa352b4b0ed409c9ba13f44be16f761",
            "value": " 483/483 [00:00&lt;00:00, 38.2kB/s]"
          }
        },
        "0bbe669a556a4840b8de9b525f0a1c40": {
          "model_module": "@jupyter-widgets/controls",
          "model_module_version": "1.5.0",
          "model_name": "HTMLModel",
          "state": {
            "_dom_classes": [],
            "_model_module": "@jupyter-widgets/controls",
            "_model_module_version": "1.5.0",
            "_model_name": "HTMLModel",
            "_view_count": null,
            "_view_module": "@jupyter-widgets/controls",
            "_view_module_version": "1.5.0",
            "_view_name": "HTMLView",
            "description": "",
            "description_tooltip": null,
            "layout": "IPY_MODEL_5d1a86c7e0944f1397580eb48b30ea89",
            "placeholder": "​",
            "style": "IPY_MODEL_14aaca051a78488c86e49cffe269984e",
            "value": " 466k/466k [00:00&lt;00:00, 6.53MB/s]"
          }
        },
        "11f5b5c17ca44ce5b857d81be065fbd9": {
          "model_module": "@jupyter-widgets/controls",
          "model_module_version": "1.5.0",
          "model_name": "FloatProgressModel",
          "state": {
            "_dom_classes": [],
            "_model_module": "@jupyter-widgets/controls",
            "_model_module_version": "1.5.0",
            "_model_name": "FloatProgressModel",
            "_view_count": null,
            "_view_module": "@jupyter-widgets/controls",
            "_view_module_version": "1.5.0",
            "_view_name": "ProgressView",
            "bar_style": "success",
            "description": "",
            "description_tooltip": null,
            "layout": "IPY_MODEL_1bcf2c8c4db044fab614c59cbccb8eb2",
            "max": 483,
            "min": 0,
            "orientation": "horizontal",
            "style": "IPY_MODEL_4fbed7e86a9a4c218942fb9787fc1e91",
            "value": 483
          }
        },
        "14aaca051a78488c86e49cffe269984e": {
          "model_module": "@jupyter-widgets/controls",
          "model_module_version": "1.5.0",
          "model_name": "DescriptionStyleModel",
          "state": {
            "_model_module": "@jupyter-widgets/controls",
            "_model_module_version": "1.5.0",
            "_model_name": "DescriptionStyleModel",
            "_view_count": null,
            "_view_module": "@jupyter-widgets/base",
            "_view_module_version": "1.2.0",
            "_view_name": "StyleView",
            "description_width": ""
          }
        },
        "1b2e4ff26e214acf92718445ec1352c8": {
          "model_module": "@jupyter-widgets/controls",
          "model_module_version": "1.5.0",
          "model_name": "DescriptionStyleModel",
          "state": {
            "_model_module": "@jupyter-widgets/controls",
            "_model_module_version": "1.5.0",
            "_model_name": "DescriptionStyleModel",
            "_view_count": null,
            "_view_module": "@jupyter-widgets/base",
            "_view_module_version": "1.2.0",
            "_view_name": "StyleView",
            "description_width": ""
          }
        },
        "1bcf2c8c4db044fab614c59cbccb8eb2": {
          "model_module": "@jupyter-widgets/base",
          "model_module_version": "1.2.0",
          "model_name": "LayoutModel",
          "state": {
            "_model_module": "@jupyter-widgets/base",
            "_model_module_version": "1.2.0",
            "_model_name": "LayoutModel",
            "_view_count": null,
            "_view_module": "@jupyter-widgets/base",
            "_view_module_version": "1.2.0",
            "_view_name": "LayoutView",
            "align_content": null,
            "align_items": null,
            "align_self": null,
            "border": null,
            "bottom": null,
            "display": null,
            "flex": null,
            "flex_flow": null,
            "grid_area": null,
            "grid_auto_columns": null,
            "grid_auto_flow": null,
            "grid_auto_rows": null,
            "grid_column": null,
            "grid_gap": null,
            "grid_row": null,
            "grid_template_areas": null,
            "grid_template_columns": null,
            "grid_template_rows": null,
            "height": null,
            "justify_content": null,
            "justify_items": null,
            "left": null,
            "margin": null,
            "max_height": null,
            "max_width": null,
            "min_height": null,
            "min_width": null,
            "object_fit": null,
            "object_position": null,
            "order": null,
            "overflow": null,
            "overflow_x": null,
            "overflow_y": null,
            "padding": null,
            "right": null,
            "top": null,
            "visibility": null,
            "width": null
          }
        },
        "1d8c4f3a9630418c804e13b8c49a622f": {
          "model_module": "@jupyter-widgets/controls",
          "model_module_version": "1.5.0",
          "model_name": "FloatProgressModel",
          "state": {
            "_dom_classes": [],
            "_model_module": "@jupyter-widgets/controls",
            "_model_module_version": "1.5.0",
            "_model_name": "FloatProgressModel",
            "_view_count": null,
            "_view_module": "@jupyter-widgets/controls",
            "_view_module_version": "1.5.0",
            "_view_name": "ProgressView",
            "bar_style": "success",
            "description": "",
            "description_tooltip": null,
            "layout": "IPY_MODEL_50b6e226ac774a8dac82a18bde60da40",
            "max": 48,
            "min": 0,
            "orientation": "horizontal",
            "style": "IPY_MODEL_7fae260477a7480fa671da712de0da56",
            "value": 48
          }
        },
        "2319ef6a299e449da92e326652d6c289": {
          "model_module": "@jupyter-widgets/controls",
          "model_module_version": "1.5.0",
          "model_name": "HBoxModel",
          "state": {
            "_dom_classes": [],
            "_model_module": "@jupyter-widgets/controls",
            "_model_module_version": "1.5.0",
            "_model_name": "HBoxModel",
            "_view_count": null,
            "_view_module": "@jupyter-widgets/controls",
            "_view_module_version": "1.5.0",
            "_view_name": "HBoxView",
            "box_style": "",
            "children": [
              "IPY_MODEL_7b25beea3f724ce9b1468a442425b599",
              "IPY_MODEL_11f5b5c17ca44ce5b857d81be065fbd9",
              "IPY_MODEL_0bb43712f28a48c6a523a3c21949ee9c"
            ],
            "layout": "IPY_MODEL_7691cd22f8394193a36047ab8e45a77b"
          }
        },
        "25ddedeff4c24b1082eeca90463aed14": {
          "model_module": "@jupyter-widgets/controls",
          "model_module_version": "1.5.0",
          "model_name": "HBoxModel",
          "state": {
            "_dom_classes": [],
            "_model_module": "@jupyter-widgets/controls",
            "_model_module_version": "1.5.0",
            "_model_name": "HBoxModel",
            "_view_count": null,
            "_view_module": "@jupyter-widgets/controls",
            "_view_module_version": "1.5.0",
            "_view_name": "HBoxView",
            "box_style": "",
            "children": [
              "IPY_MODEL_c4247ed7ad184363a9360fac1bc9e126",
              "IPY_MODEL_6282b1776fca483e9ef5883168e6d14c",
              "IPY_MODEL_4ba88e62f44645cc884e46eee2efc3d8"
            ],
            "layout": "IPY_MODEL_f6b329d1d82a43d8b9f0294c89fdb2bb"
          }
        },
        "26c023d022dc4094a0da68071b587855": {
          "model_module": "@jupyter-widgets/base",
          "model_module_version": "1.2.0",
          "model_name": "LayoutModel",
          "state": {
            "_model_module": "@jupyter-widgets/base",
            "_model_module_version": "1.2.0",
            "_model_name": "LayoutModel",
            "_view_count": null,
            "_view_module": "@jupyter-widgets/base",
            "_view_module_version": "1.2.0",
            "_view_name": "LayoutView",
            "align_content": null,
            "align_items": null,
            "align_self": null,
            "border": null,
            "bottom": null,
            "display": null,
            "flex": null,
            "flex_flow": null,
            "grid_area": null,
            "grid_auto_columns": null,
            "grid_auto_flow": null,
            "grid_auto_rows": null,
            "grid_column": null,
            "grid_gap": null,
            "grid_row": null,
            "grid_template_areas": null,
            "grid_template_columns": null,
            "grid_template_rows": null,
            "height": null,
            "justify_content": null,
            "justify_items": null,
            "left": null,
            "margin": null,
            "max_height": null,
            "max_width": null,
            "min_height": null,
            "min_width": null,
            "object_fit": null,
            "object_position": null,
            "order": null,
            "overflow": null,
            "overflow_x": null,
            "overflow_y": null,
            "padding": null,
            "right": null,
            "top": null,
            "visibility": null,
            "width": null
          }
        },
        "2ccf09addb4d4d80a6878eb9b8a1d4bb": {
          "model_module": "@jupyter-widgets/controls",
          "model_module_version": "1.5.0",
          "model_name": "ProgressStyleModel",
          "state": {
            "_model_module": "@jupyter-widgets/controls",
            "_model_module_version": "1.5.0",
            "_model_name": "ProgressStyleModel",
            "_view_count": null,
            "_view_module": "@jupyter-widgets/base",
            "_view_module_version": "1.2.0",
            "_view_name": "StyleView",
            "bar_color": null,
            "description_width": ""
          }
        },
        "306439b11955485a8ffc271a8686e108": {
          "model_module": "@jupyter-widgets/base",
          "model_module_version": "1.2.0",
          "model_name": "LayoutModel",
          "state": {
            "_model_module": "@jupyter-widgets/base",
            "_model_module_version": "1.2.0",
            "_model_name": "LayoutModel",
            "_view_count": null,
            "_view_module": "@jupyter-widgets/base",
            "_view_module_version": "1.2.0",
            "_view_name": "LayoutView",
            "align_content": null,
            "align_items": null,
            "align_self": null,
            "border": null,
            "bottom": null,
            "display": null,
            "flex": null,
            "flex_flow": null,
            "grid_area": null,
            "grid_auto_columns": null,
            "grid_auto_flow": null,
            "grid_auto_rows": null,
            "grid_column": null,
            "grid_gap": null,
            "grid_row": null,
            "grid_template_areas": null,
            "grid_template_columns": null,
            "grid_template_rows": null,
            "height": null,
            "justify_content": null,
            "justify_items": null,
            "left": null,
            "margin": null,
            "max_height": null,
            "max_width": null,
            "min_height": null,
            "min_width": null,
            "object_fit": null,
            "object_position": null,
            "order": null,
            "overflow": null,
            "overflow_x": null,
            "overflow_y": null,
            "padding": null,
            "right": null,
            "top": null,
            "visibility": null,
            "width": null
          }
        },
        "325dd76a4d1648c1a4408c4691419684": {
          "model_module": "@jupyter-widgets/controls",
          "model_module_version": "1.5.0",
          "model_name": "ProgressStyleModel",
          "state": {
            "_model_module": "@jupyter-widgets/controls",
            "_model_module_version": "1.5.0",
            "_model_name": "ProgressStyleModel",
            "_view_count": null,
            "_view_module": "@jupyter-widgets/base",
            "_view_module_version": "1.2.0",
            "_view_name": "StyleView",
            "bar_color": null,
            "description_width": ""
          }
        },
        "38e66497813f40a6bf7717972aa74d68": {
          "model_module": "@jupyter-widgets/base",
          "model_module_version": "1.2.0",
          "model_name": "LayoutModel",
          "state": {
            "_model_module": "@jupyter-widgets/base",
            "_model_module_version": "1.2.0",
            "_model_name": "LayoutModel",
            "_view_count": null,
            "_view_module": "@jupyter-widgets/base",
            "_view_module_version": "1.2.0",
            "_view_name": "LayoutView",
            "align_content": null,
            "align_items": null,
            "align_self": null,
            "border": null,
            "bottom": null,
            "display": null,
            "flex": null,
            "flex_flow": null,
            "grid_area": null,
            "grid_auto_columns": null,
            "grid_auto_flow": null,
            "grid_auto_rows": null,
            "grid_column": null,
            "grid_gap": null,
            "grid_row": null,
            "grid_template_areas": null,
            "grid_template_columns": null,
            "grid_template_rows": null,
            "height": null,
            "justify_content": null,
            "justify_items": null,
            "left": null,
            "margin": null,
            "max_height": null,
            "max_width": null,
            "min_height": null,
            "min_width": null,
            "object_fit": null,
            "object_position": null,
            "order": null,
            "overflow": null,
            "overflow_x": null,
            "overflow_y": null,
            "padding": null,
            "right": null,
            "top": null,
            "visibility": null,
            "width": null
          }
        },
        "3e97fe621bb547329c4545c80554f527": {
          "model_module": "@jupyter-widgets/controls",
          "model_module_version": "1.5.0",
          "model_name": "HBoxModel",
          "state": {
            "_dom_classes": [],
            "_model_module": "@jupyter-widgets/controls",
            "_model_module_version": "1.5.0",
            "_model_name": "HBoxModel",
            "_view_count": null,
            "_view_module": "@jupyter-widgets/controls",
            "_view_module_version": "1.5.0",
            "_view_name": "HBoxView",
            "box_style": "",
            "children": [
              "IPY_MODEL_cd159521fb0544c295e6f72853abe876",
              "IPY_MODEL_1d8c4f3a9630418c804e13b8c49a622f",
              "IPY_MODEL_c7bc03d602be43deadb29723e987b392"
            ],
            "layout": "IPY_MODEL_efeb1be19b6c43fcac7e4530b104190d"
          }
        },
        "405bfffd5a8f4023b9eebfc60315cef6": {
          "model_module": "@jupyter-widgets/base",
          "model_module_version": "1.2.0",
          "model_name": "LayoutModel",
          "state": {
            "_model_module": "@jupyter-widgets/base",
            "_model_module_version": "1.2.0",
            "_model_name": "LayoutModel",
            "_view_count": null,
            "_view_module": "@jupyter-widgets/base",
            "_view_module_version": "1.2.0",
            "_view_name": "LayoutView",
            "align_content": null,
            "align_items": null,
            "align_self": null,
            "border": null,
            "bottom": null,
            "display": null,
            "flex": null,
            "flex_flow": null,
            "grid_area": null,
            "grid_auto_columns": null,
            "grid_auto_flow": null,
            "grid_auto_rows": null,
            "grid_column": null,
            "grid_gap": null,
            "grid_row": null,
            "grid_template_areas": null,
            "grid_template_columns": null,
            "grid_template_rows": null,
            "height": null,
            "justify_content": null,
            "justify_items": null,
            "left": null,
            "margin": null,
            "max_height": null,
            "max_width": null,
            "min_height": null,
            "min_width": null,
            "object_fit": null,
            "object_position": null,
            "order": null,
            "overflow": null,
            "overflow_x": null,
            "overflow_y": null,
            "padding": null,
            "right": null,
            "top": null,
            "visibility": null,
            "width": null
          }
        },
        "4a359aaf8fd645f6b85c1c565368fef7": {
          "model_module": "@jupyter-widgets/base",
          "model_module_version": "1.2.0",
          "model_name": "LayoutModel",
          "state": {
            "_model_module": "@jupyter-widgets/base",
            "_model_module_version": "1.2.0",
            "_model_name": "LayoutModel",
            "_view_count": null,
            "_view_module": "@jupyter-widgets/base",
            "_view_module_version": "1.2.0",
            "_view_name": "LayoutView",
            "align_content": null,
            "align_items": null,
            "align_self": null,
            "border": null,
            "bottom": null,
            "display": null,
            "flex": null,
            "flex_flow": null,
            "grid_area": null,
            "grid_auto_columns": null,
            "grid_auto_flow": null,
            "grid_auto_rows": null,
            "grid_column": null,
            "grid_gap": null,
            "grid_row": null,
            "grid_template_areas": null,
            "grid_template_columns": null,
            "grid_template_rows": null,
            "height": null,
            "justify_content": null,
            "justify_items": null,
            "left": null,
            "margin": null,
            "max_height": null,
            "max_width": null,
            "min_height": null,
            "min_width": null,
            "object_fit": null,
            "object_position": null,
            "order": null,
            "overflow": null,
            "overflow_x": null,
            "overflow_y": null,
            "padding": null,
            "right": null,
            "top": null,
            "visibility": null,
            "width": null
          }
        },
        "4ac74d78973f419d830670e5a494dce9": {
          "model_module": "@jupyter-widgets/controls",
          "model_module_version": "1.5.0",
          "model_name": "DescriptionStyleModel",
          "state": {
            "_model_module": "@jupyter-widgets/controls",
            "_model_module_version": "1.5.0",
            "_model_name": "DescriptionStyleModel",
            "_view_count": null,
            "_view_module": "@jupyter-widgets/base",
            "_view_module_version": "1.2.0",
            "_view_name": "StyleView",
            "description_width": ""
          }
        },
        "4ba88e62f44645cc884e46eee2efc3d8": {
          "model_module": "@jupyter-widgets/controls",
          "model_module_version": "1.5.0",
          "model_name": "HTMLModel",
          "state": {
            "_dom_classes": [],
            "_model_module": "@jupyter-widgets/controls",
            "_model_module_version": "1.5.0",
            "_model_name": "HTMLModel",
            "_view_count": null,
            "_view_module": "@jupyter-widgets/controls",
            "_view_module_version": "1.5.0",
            "_view_name": "HTMLView",
            "description": "",
            "description_tooltip": null,
            "layout": "IPY_MODEL_b0e77ff19f1846edaf24f260dec720d0",
            "placeholder": "​",
            "style": "IPY_MODEL_fb6c3b80cb144baeb68ae8939c993b82",
            "value": " 232k/232k [00:00&lt;00:00, 5.92MB/s]"
          }
        },
        "4fbed7e86a9a4c218942fb9787fc1e91": {
          "model_module": "@jupyter-widgets/controls",
          "model_module_version": "1.5.0",
          "model_name": "ProgressStyleModel",
          "state": {
            "_model_module": "@jupyter-widgets/controls",
            "_model_module_version": "1.5.0",
            "_model_name": "ProgressStyleModel",
            "_view_count": null,
            "_view_module": "@jupyter-widgets/base",
            "_view_module_version": "1.2.0",
            "_view_name": "StyleView",
            "bar_color": null,
            "description_width": ""
          }
        },
        "50b6e226ac774a8dac82a18bde60da40": {
          "model_module": "@jupyter-widgets/base",
          "model_module_version": "1.2.0",
          "model_name": "LayoutModel",
          "state": {
            "_model_module": "@jupyter-widgets/base",
            "_model_module_version": "1.2.0",
            "_model_name": "LayoutModel",
            "_view_count": null,
            "_view_module": "@jupyter-widgets/base",
            "_view_module_version": "1.2.0",
            "_view_name": "LayoutView",
            "align_content": null,
            "align_items": null,
            "align_self": null,
            "border": null,
            "bottom": null,
            "display": null,
            "flex": null,
            "flex_flow": null,
            "grid_area": null,
            "grid_auto_columns": null,
            "grid_auto_flow": null,
            "grid_auto_rows": null,
            "grid_column": null,
            "grid_gap": null,
            "grid_row": null,
            "grid_template_areas": null,
            "grid_template_columns": null,
            "grid_template_rows": null,
            "height": null,
            "justify_content": null,
            "justify_items": null,
            "left": null,
            "margin": null,
            "max_height": null,
            "max_width": null,
            "min_height": null,
            "min_width": null,
            "object_fit": null,
            "object_position": null,
            "order": null,
            "overflow": null,
            "overflow_x": null,
            "overflow_y": null,
            "padding": null,
            "right": null,
            "top": null,
            "visibility": null,
            "width": null
          }
        },
        "5842d1422d1b4d3a91a997520f651133": {
          "model_module": "@jupyter-widgets/controls",
          "model_module_version": "1.5.0",
          "model_name": "DescriptionStyleModel",
          "state": {
            "_model_module": "@jupyter-widgets/controls",
            "_model_module_version": "1.5.0",
            "_model_name": "DescriptionStyleModel",
            "_view_count": null,
            "_view_module": "@jupyter-widgets/base",
            "_view_module_version": "1.2.0",
            "_view_name": "StyleView",
            "description_width": ""
          }
        },
        "5d1a86c7e0944f1397580eb48b30ea89": {
          "model_module": "@jupyter-widgets/base",
          "model_module_version": "1.2.0",
          "model_name": "LayoutModel",
          "state": {
            "_model_module": "@jupyter-widgets/base",
            "_model_module_version": "1.2.0",
            "_model_name": "LayoutModel",
            "_view_count": null,
            "_view_module": "@jupyter-widgets/base",
            "_view_module_version": "1.2.0",
            "_view_name": "LayoutView",
            "align_content": null,
            "align_items": null,
            "align_self": null,
            "border": null,
            "bottom": null,
            "display": null,
            "flex": null,
            "flex_flow": null,
            "grid_area": null,
            "grid_auto_columns": null,
            "grid_auto_flow": null,
            "grid_auto_rows": null,
            "grid_column": null,
            "grid_gap": null,
            "grid_row": null,
            "grid_template_areas": null,
            "grid_template_columns": null,
            "grid_template_rows": null,
            "height": null,
            "justify_content": null,
            "justify_items": null,
            "left": null,
            "margin": null,
            "max_height": null,
            "max_width": null,
            "min_height": null,
            "min_width": null,
            "object_fit": null,
            "object_position": null,
            "order": null,
            "overflow": null,
            "overflow_x": null,
            "overflow_y": null,
            "padding": null,
            "right": null,
            "top": null,
            "visibility": null,
            "width": null
          }
        },
        "5d6f0093a53049ef9c8feb9058d0aaa2": {
          "model_module": "@jupyter-widgets/controls",
          "model_module_version": "1.5.0",
          "model_name": "HBoxModel",
          "state": {
            "_dom_classes": [],
            "_model_module": "@jupyter-widgets/controls",
            "_model_module_version": "1.5.0",
            "_model_name": "HBoxModel",
            "_view_count": null,
            "_view_module": "@jupyter-widgets/controls",
            "_view_module_version": "1.5.0",
            "_view_name": "HBoxView",
            "box_style": "",
            "children": [
              "IPY_MODEL_d559ea7e1a6f4e858c886bb0fef15243",
              "IPY_MODEL_64e115882f184909a918f03fc4c3f745",
              "IPY_MODEL_884274fcd0aa4715a6c5e0cd96c7ffe5"
            ],
            "layout": "IPY_MODEL_4a359aaf8fd645f6b85c1c565368fef7"
          }
        },
        "6282b1776fca483e9ef5883168e6d14c": {
          "model_module": "@jupyter-widgets/controls",
          "model_module_version": "1.5.0",
          "model_name": "FloatProgressModel",
          "state": {
            "_dom_classes": [],
            "_model_module": "@jupyter-widgets/controls",
            "_model_module_version": "1.5.0",
            "_model_name": "FloatProgressModel",
            "_view_count": null,
            "_view_module": "@jupyter-widgets/controls",
            "_view_module_version": "1.5.0",
            "_view_name": "ProgressView",
            "bar_style": "success",
            "description": "",
            "description_tooltip": null,
            "layout": "IPY_MODEL_7ba797f1ce304179bcb180ed05d56868",
            "max": 231508,
            "min": 0,
            "orientation": "horizontal",
            "style": "IPY_MODEL_325dd76a4d1648c1a4408c4691419684",
            "value": 231508
          }
        },
        "64e115882f184909a918f03fc4c3f745": {
          "model_module": "@jupyter-widgets/controls",
          "model_module_version": "1.5.0",
          "model_name": "FloatProgressModel",
          "state": {
            "_dom_classes": [],
            "_model_module": "@jupyter-widgets/controls",
            "_model_module_version": "1.5.0",
            "_model_name": "FloatProgressModel",
            "_view_count": null,
            "_view_module": "@jupyter-widgets/controls",
            "_view_module_version": "1.5.0",
            "_view_name": "ProgressView",
            "bar_style": "success",
            "description": "",
            "description_tooltip": null,
            "layout": "IPY_MODEL_306439b11955485a8ffc271a8686e108",
            "max": 267954768,
            "min": 0,
            "orientation": "horizontal",
            "style": "IPY_MODEL_8d9bbbc197cb43518258622b50933ef7",
            "value": 267954768
          }
        },
        "6b3b29af10344777abfcddbf0f977823": {
          "model_module": "@jupyter-widgets/base",
          "model_module_version": "1.2.0",
          "model_name": "LayoutModel",
          "state": {
            "_model_module": "@jupyter-widgets/base",
            "_model_module_version": "1.2.0",
            "_model_name": "LayoutModel",
            "_view_count": null,
            "_view_module": "@jupyter-widgets/base",
            "_view_module_version": "1.2.0",
            "_view_name": "LayoutView",
            "align_content": null,
            "align_items": null,
            "align_self": null,
            "border": null,
            "bottom": null,
            "display": null,
            "flex": null,
            "flex_flow": null,
            "grid_area": null,
            "grid_auto_columns": null,
            "grid_auto_flow": null,
            "grid_auto_rows": null,
            "grid_column": null,
            "grid_gap": null,
            "grid_row": null,
            "grid_template_areas": null,
            "grid_template_columns": null,
            "grid_template_rows": null,
            "height": null,
            "justify_content": null,
            "justify_items": null,
            "left": null,
            "margin": null,
            "max_height": null,
            "max_width": null,
            "min_height": null,
            "min_width": null,
            "object_fit": null,
            "object_position": null,
            "order": null,
            "overflow": null,
            "overflow_x": null,
            "overflow_y": null,
            "padding": null,
            "right": null,
            "top": null,
            "visibility": null,
            "width": null
          }
        },
        "711cd16a850d404b90d339de7b7ad7b1": {
          "model_module": "@jupyter-widgets/base",
          "model_module_version": "1.2.0",
          "model_name": "LayoutModel",
          "state": {
            "_model_module": "@jupyter-widgets/base",
            "_model_module_version": "1.2.0",
            "_model_name": "LayoutModel",
            "_view_count": null,
            "_view_module": "@jupyter-widgets/base",
            "_view_module_version": "1.2.0",
            "_view_name": "LayoutView",
            "align_content": null,
            "align_items": null,
            "align_self": null,
            "border": null,
            "bottom": null,
            "display": null,
            "flex": null,
            "flex_flow": null,
            "grid_area": null,
            "grid_auto_columns": null,
            "grid_auto_flow": null,
            "grid_auto_rows": null,
            "grid_column": null,
            "grid_gap": null,
            "grid_row": null,
            "grid_template_areas": null,
            "grid_template_columns": null,
            "grid_template_rows": null,
            "height": null,
            "justify_content": null,
            "justify_items": null,
            "left": null,
            "margin": null,
            "max_height": null,
            "max_width": null,
            "min_height": null,
            "min_width": null,
            "object_fit": null,
            "object_position": null,
            "order": null,
            "overflow": null,
            "overflow_x": null,
            "overflow_y": null,
            "padding": null,
            "right": null,
            "top": null,
            "visibility": null,
            "width": null
          }
        },
        "7456692b0ae0424a8d5d14c90d437879": {
          "model_module": "@jupyter-widgets/controls",
          "model_module_version": "1.5.0",
          "model_name": "FloatProgressModel",
          "state": {
            "_dom_classes": [],
            "_model_module": "@jupyter-widgets/controls",
            "_model_module_version": "1.5.0",
            "_model_name": "FloatProgressModel",
            "_view_count": null,
            "_view_module": "@jupyter-widgets/controls",
            "_view_module_version": "1.5.0",
            "_view_name": "ProgressView",
            "bar_style": "success",
            "description": "",
            "description_tooltip": null,
            "layout": "IPY_MODEL_b26819a4ffbb4f2689af0e5b04ddfd50",
            "max": 466062,
            "min": 0,
            "orientation": "horizontal",
            "style": "IPY_MODEL_2ccf09addb4d4d80a6878eb9b8a1d4bb",
            "value": 466062
          }
        },
        "7691cd22f8394193a36047ab8e45a77b": {
          "model_module": "@jupyter-widgets/base",
          "model_module_version": "1.2.0",
          "model_name": "LayoutModel",
          "state": {
            "_model_module": "@jupyter-widgets/base",
            "_model_module_version": "1.2.0",
            "_model_name": "LayoutModel",
            "_view_count": null,
            "_view_module": "@jupyter-widgets/base",
            "_view_module_version": "1.2.0",
            "_view_name": "LayoutView",
            "align_content": null,
            "align_items": null,
            "align_self": null,
            "border": null,
            "bottom": null,
            "display": null,
            "flex": null,
            "flex_flow": null,
            "grid_area": null,
            "grid_auto_columns": null,
            "grid_auto_flow": null,
            "grid_auto_rows": null,
            "grid_column": null,
            "grid_gap": null,
            "grid_row": null,
            "grid_template_areas": null,
            "grid_template_columns": null,
            "grid_template_rows": null,
            "height": null,
            "justify_content": null,
            "justify_items": null,
            "left": null,
            "margin": null,
            "max_height": null,
            "max_width": null,
            "min_height": null,
            "min_width": null,
            "object_fit": null,
            "object_position": null,
            "order": null,
            "overflow": null,
            "overflow_x": null,
            "overflow_y": null,
            "padding": null,
            "right": null,
            "top": null,
            "visibility": null,
            "width": null
          }
        },
        "7b25beea3f724ce9b1468a442425b599": {
          "model_module": "@jupyter-widgets/controls",
          "model_module_version": "1.5.0",
          "model_name": "HTMLModel",
          "state": {
            "_dom_classes": [],
            "_model_module": "@jupyter-widgets/controls",
            "_model_module_version": "1.5.0",
            "_model_name": "HTMLModel",
            "_view_count": null,
            "_view_module": "@jupyter-widgets/controls",
            "_view_module_version": "1.5.0",
            "_view_name": "HTMLView",
            "description": "",
            "description_tooltip": null,
            "layout": "IPY_MODEL_fc74994f83de46d18001316fba12ad56",
            "placeholder": "​",
            "style": "IPY_MODEL_f160a43dc68547008c40db3903cd36fd",
            "value": "config.json: 100%"
          }
        },
        "7b9ea9170b71455087aa321911aed296": {
          "model_module": "@jupyter-widgets/base",
          "model_module_version": "1.2.0",
          "model_name": "LayoutModel",
          "state": {
            "_model_module": "@jupyter-widgets/base",
            "_model_module_version": "1.2.0",
            "_model_name": "LayoutModel",
            "_view_count": null,
            "_view_module": "@jupyter-widgets/base",
            "_view_module_version": "1.2.0",
            "_view_name": "LayoutView",
            "align_content": null,
            "align_items": null,
            "align_self": null,
            "border": null,
            "bottom": null,
            "display": null,
            "flex": null,
            "flex_flow": null,
            "grid_area": null,
            "grid_auto_columns": null,
            "grid_auto_flow": null,
            "grid_auto_rows": null,
            "grid_column": null,
            "grid_gap": null,
            "grid_row": null,
            "grid_template_areas": null,
            "grid_template_columns": null,
            "grid_template_rows": null,
            "height": null,
            "justify_content": null,
            "justify_items": null,
            "left": null,
            "margin": null,
            "max_height": null,
            "max_width": null,
            "min_height": null,
            "min_width": null,
            "object_fit": null,
            "object_position": null,
            "order": null,
            "overflow": null,
            "overflow_x": null,
            "overflow_y": null,
            "padding": null,
            "right": null,
            "top": null,
            "visibility": null,
            "width": null
          }
        },
        "7ba797f1ce304179bcb180ed05d56868": {
          "model_module": "@jupyter-widgets/base",
          "model_module_version": "1.2.0",
          "model_name": "LayoutModel",
          "state": {
            "_model_module": "@jupyter-widgets/base",
            "_model_module_version": "1.2.0",
            "_model_name": "LayoutModel",
            "_view_count": null,
            "_view_module": "@jupyter-widgets/base",
            "_view_module_version": "1.2.0",
            "_view_name": "LayoutView",
            "align_content": null,
            "align_items": null,
            "align_self": null,
            "border": null,
            "bottom": null,
            "display": null,
            "flex": null,
            "flex_flow": null,
            "grid_area": null,
            "grid_auto_columns": null,
            "grid_auto_flow": null,
            "grid_auto_rows": null,
            "grid_column": null,
            "grid_gap": null,
            "grid_row": null,
            "grid_template_areas": null,
            "grid_template_columns": null,
            "grid_template_rows": null,
            "height": null,
            "justify_content": null,
            "justify_items": null,
            "left": null,
            "margin": null,
            "max_height": null,
            "max_width": null,
            "min_height": null,
            "min_width": null,
            "object_fit": null,
            "object_position": null,
            "order": null,
            "overflow": null,
            "overflow_x": null,
            "overflow_y": null,
            "padding": null,
            "right": null,
            "top": null,
            "visibility": null,
            "width": null
          }
        },
        "7fae260477a7480fa671da712de0da56": {
          "model_module": "@jupyter-widgets/controls",
          "model_module_version": "1.5.0",
          "model_name": "ProgressStyleModel",
          "state": {
            "_model_module": "@jupyter-widgets/controls",
            "_model_module_version": "1.5.0",
            "_model_name": "ProgressStyleModel",
            "_view_count": null,
            "_view_module": "@jupyter-widgets/base",
            "_view_module_version": "1.2.0",
            "_view_name": "StyleView",
            "bar_color": null,
            "description_width": ""
          }
        },
        "884274fcd0aa4715a6c5e0cd96c7ffe5": {
          "model_module": "@jupyter-widgets/controls",
          "model_module_version": "1.5.0",
          "model_name": "HTMLModel",
          "state": {
            "_dom_classes": [],
            "_model_module": "@jupyter-widgets/controls",
            "_model_module_version": "1.5.0",
            "_model_name": "HTMLModel",
            "_view_count": null,
            "_view_module": "@jupyter-widgets/controls",
            "_view_module_version": "1.5.0",
            "_view_name": "HTMLView",
            "description": "",
            "description_tooltip": null,
            "layout": "IPY_MODEL_405bfffd5a8f4023b9eebfc60315cef6",
            "placeholder": "​",
            "style": "IPY_MODEL_035cecb26e0b4d388d66b6f612694f0e",
            "value": " 268M/268M [00:07&lt;00:00, 39.4MB/s]"
          }
        },
        "8d9bbbc197cb43518258622b50933ef7": {
          "model_module": "@jupyter-widgets/controls",
          "model_module_version": "1.5.0",
          "model_name": "ProgressStyleModel",
          "state": {
            "_model_module": "@jupyter-widgets/controls",
            "_model_module_version": "1.5.0",
            "_model_name": "ProgressStyleModel",
            "_view_count": null,
            "_view_module": "@jupyter-widgets/base",
            "_view_module_version": "1.2.0",
            "_view_name": "StyleView",
            "bar_color": null,
            "description_width": ""
          }
        },
        "94814496aee045a99e503b5b256af656": {
          "model_module": "@jupyter-widgets/base",
          "model_module_version": "1.2.0",
          "model_name": "LayoutModel",
          "state": {
            "_model_module": "@jupyter-widgets/base",
            "_model_module_version": "1.2.0",
            "_model_name": "LayoutModel",
            "_view_count": null,
            "_view_module": "@jupyter-widgets/base",
            "_view_module_version": "1.2.0",
            "_view_name": "LayoutView",
            "align_content": null,
            "align_items": null,
            "align_self": null,
            "border": null,
            "bottom": null,
            "display": null,
            "flex": null,
            "flex_flow": null,
            "grid_area": null,
            "grid_auto_columns": null,
            "grid_auto_flow": null,
            "grid_auto_rows": null,
            "grid_column": null,
            "grid_gap": null,
            "grid_row": null,
            "grid_template_areas": null,
            "grid_template_columns": null,
            "grid_template_rows": null,
            "height": null,
            "justify_content": null,
            "justify_items": null,
            "left": null,
            "margin": null,
            "max_height": null,
            "max_width": null,
            "min_height": null,
            "min_width": null,
            "object_fit": null,
            "object_position": null,
            "order": null,
            "overflow": null,
            "overflow_x": null,
            "overflow_y": null,
            "padding": null,
            "right": null,
            "top": null,
            "visibility": null,
            "width": null
          }
        },
        "ad8915914162446b84c4b2e606420dc2": {
          "model_module": "@jupyter-widgets/controls",
          "model_module_version": "1.5.0",
          "model_name": "HBoxModel",
          "state": {
            "_dom_classes": [],
            "_model_module": "@jupyter-widgets/controls",
            "_model_module_version": "1.5.0",
            "_model_name": "HBoxModel",
            "_view_count": null,
            "_view_module": "@jupyter-widgets/controls",
            "_view_module_version": "1.5.0",
            "_view_name": "HBoxView",
            "box_style": "",
            "children": [
              "IPY_MODEL_e809c17b64ae4fab831a8fa2c5d80e48",
              "IPY_MODEL_7456692b0ae0424a8d5d14c90d437879",
              "IPY_MODEL_0bbe669a556a4840b8de9b525f0a1c40"
            ],
            "layout": "IPY_MODEL_6b3b29af10344777abfcddbf0f977823"
          }
        },
        "ae4ba353dd2940b098f66c1121bedb6b": {
          "model_module": "@jupyter-widgets/controls",
          "model_module_version": "1.5.0",
          "model_name": "DescriptionStyleModel",
          "state": {
            "_model_module": "@jupyter-widgets/controls",
            "_model_module_version": "1.5.0",
            "_model_name": "DescriptionStyleModel",
            "_view_count": null,
            "_view_module": "@jupyter-widgets/base",
            "_view_module_version": "1.2.0",
            "_view_name": "StyleView",
            "description_width": ""
          }
        },
        "afa352b4b0ed409c9ba13f44be16f761": {
          "model_module": "@jupyter-widgets/controls",
          "model_module_version": "1.5.0",
          "model_name": "DescriptionStyleModel",
          "state": {
            "_model_module": "@jupyter-widgets/controls",
            "_model_module_version": "1.5.0",
            "_model_name": "DescriptionStyleModel",
            "_view_count": null,
            "_view_module": "@jupyter-widgets/base",
            "_view_module_version": "1.2.0",
            "_view_name": "StyleView",
            "description_width": ""
          }
        },
        "b0e77ff19f1846edaf24f260dec720d0": {
          "model_module": "@jupyter-widgets/base",
          "model_module_version": "1.2.0",
          "model_name": "LayoutModel",
          "state": {
            "_model_module": "@jupyter-widgets/base",
            "_model_module_version": "1.2.0",
            "_model_name": "LayoutModel",
            "_view_count": null,
            "_view_module": "@jupyter-widgets/base",
            "_view_module_version": "1.2.0",
            "_view_name": "LayoutView",
            "align_content": null,
            "align_items": null,
            "align_self": null,
            "border": null,
            "bottom": null,
            "display": null,
            "flex": null,
            "flex_flow": null,
            "grid_area": null,
            "grid_auto_columns": null,
            "grid_auto_flow": null,
            "grid_auto_rows": null,
            "grid_column": null,
            "grid_gap": null,
            "grid_row": null,
            "grid_template_areas": null,
            "grid_template_columns": null,
            "grid_template_rows": null,
            "height": null,
            "justify_content": null,
            "justify_items": null,
            "left": null,
            "margin": null,
            "max_height": null,
            "max_width": null,
            "min_height": null,
            "min_width": null,
            "object_fit": null,
            "object_position": null,
            "order": null,
            "overflow": null,
            "overflow_x": null,
            "overflow_y": null,
            "padding": null,
            "right": null,
            "top": null,
            "visibility": null,
            "width": null
          }
        },
        "b26819a4ffbb4f2689af0e5b04ddfd50": {
          "model_module": "@jupyter-widgets/base",
          "model_module_version": "1.2.0",
          "model_name": "LayoutModel",
          "state": {
            "_model_module": "@jupyter-widgets/base",
            "_model_module_version": "1.2.0",
            "_model_name": "LayoutModel",
            "_view_count": null,
            "_view_module": "@jupyter-widgets/base",
            "_view_module_version": "1.2.0",
            "_view_name": "LayoutView",
            "align_content": null,
            "align_items": null,
            "align_self": null,
            "border": null,
            "bottom": null,
            "display": null,
            "flex": null,
            "flex_flow": null,
            "grid_area": null,
            "grid_auto_columns": null,
            "grid_auto_flow": null,
            "grid_auto_rows": null,
            "grid_column": null,
            "grid_gap": null,
            "grid_row": null,
            "grid_template_areas": null,
            "grid_template_columns": null,
            "grid_template_rows": null,
            "height": null,
            "justify_content": null,
            "justify_items": null,
            "left": null,
            "margin": null,
            "max_height": null,
            "max_width": null,
            "min_height": null,
            "min_width": null,
            "object_fit": null,
            "object_position": null,
            "order": null,
            "overflow": null,
            "overflow_x": null,
            "overflow_y": null,
            "padding": null,
            "right": null,
            "top": null,
            "visibility": null,
            "width": null
          }
        },
        "c4247ed7ad184363a9360fac1bc9e126": {
          "model_module": "@jupyter-widgets/controls",
          "model_module_version": "1.5.0",
          "model_name": "HTMLModel",
          "state": {
            "_dom_classes": [],
            "_model_module": "@jupyter-widgets/controls",
            "_model_module_version": "1.5.0",
            "_model_name": "HTMLModel",
            "_view_count": null,
            "_view_module": "@jupyter-widgets/controls",
            "_view_module_version": "1.5.0",
            "_view_name": "HTMLView",
            "description": "",
            "description_tooltip": null,
            "layout": "IPY_MODEL_38e66497813f40a6bf7717972aa74d68",
            "placeholder": "​",
            "style": "IPY_MODEL_5842d1422d1b4d3a91a997520f651133",
            "value": "vocab.txt: 100%"
          }
        },
        "c7bc03d602be43deadb29723e987b392": {
          "model_module": "@jupyter-widgets/controls",
          "model_module_version": "1.5.0",
          "model_name": "HTMLModel",
          "state": {
            "_dom_classes": [],
            "_model_module": "@jupyter-widgets/controls",
            "_model_module_version": "1.5.0",
            "_model_name": "HTMLModel",
            "_view_count": null,
            "_view_module": "@jupyter-widgets/controls",
            "_view_module_version": "1.5.0",
            "_view_name": "HTMLView",
            "description": "",
            "description_tooltip": null,
            "layout": "IPY_MODEL_711cd16a850d404b90d339de7b7ad7b1",
            "placeholder": "​",
            "style": "IPY_MODEL_1b2e4ff26e214acf92718445ec1352c8",
            "value": " 48.0/48.0 [00:00&lt;00:00, 3.37kB/s]"
          }
        },
        "cd159521fb0544c295e6f72853abe876": {
          "model_module": "@jupyter-widgets/controls",
          "model_module_version": "1.5.0",
          "model_name": "HTMLModel",
          "state": {
            "_dom_classes": [],
            "_model_module": "@jupyter-widgets/controls",
            "_model_module_version": "1.5.0",
            "_model_name": "HTMLModel",
            "_view_count": null,
            "_view_module": "@jupyter-widgets/controls",
            "_view_module_version": "1.5.0",
            "_view_name": "HTMLView",
            "description": "",
            "description_tooltip": null,
            "layout": "IPY_MODEL_d555f5213ad44140b2d74016ce78bf07",
            "placeholder": "​",
            "style": "IPY_MODEL_4ac74d78973f419d830670e5a494dce9",
            "value": "tokenizer_config.json: 100%"
          }
        },
        "d555f5213ad44140b2d74016ce78bf07": {
          "model_module": "@jupyter-widgets/base",
          "model_module_version": "1.2.0",
          "model_name": "LayoutModel",
          "state": {
            "_model_module": "@jupyter-widgets/base",
            "_model_module_version": "1.2.0",
            "_model_name": "LayoutModel",
            "_view_count": null,
            "_view_module": "@jupyter-widgets/base",
            "_view_module_version": "1.2.0",
            "_view_name": "LayoutView",
            "align_content": null,
            "align_items": null,
            "align_self": null,
            "border": null,
            "bottom": null,
            "display": null,
            "flex": null,
            "flex_flow": null,
            "grid_area": null,
            "grid_auto_columns": null,
            "grid_auto_flow": null,
            "grid_auto_rows": null,
            "grid_column": null,
            "grid_gap": null,
            "grid_row": null,
            "grid_template_areas": null,
            "grid_template_columns": null,
            "grid_template_rows": null,
            "height": null,
            "justify_content": null,
            "justify_items": null,
            "left": null,
            "margin": null,
            "max_height": null,
            "max_width": null,
            "min_height": null,
            "min_width": null,
            "object_fit": null,
            "object_position": null,
            "order": null,
            "overflow": null,
            "overflow_x": null,
            "overflow_y": null,
            "padding": null,
            "right": null,
            "top": null,
            "visibility": null,
            "width": null
          }
        },
        "d559ea7e1a6f4e858c886bb0fef15243": {
          "model_module": "@jupyter-widgets/controls",
          "model_module_version": "1.5.0",
          "model_name": "HTMLModel",
          "state": {
            "_dom_classes": [],
            "_model_module": "@jupyter-widgets/controls",
            "_model_module_version": "1.5.0",
            "_model_name": "HTMLModel",
            "_view_count": null,
            "_view_module": "@jupyter-widgets/controls",
            "_view_module_version": "1.5.0",
            "_view_name": "HTMLView",
            "description": "",
            "description_tooltip": null,
            "layout": "IPY_MODEL_26c023d022dc4094a0da68071b587855",
            "placeholder": "​",
            "style": "IPY_MODEL_ae4ba353dd2940b098f66c1121bedb6b",
            "value": "model.safetensors: 100%"
          }
        },
        "e809c17b64ae4fab831a8fa2c5d80e48": {
          "model_module": "@jupyter-widgets/controls",
          "model_module_version": "1.5.0",
          "model_name": "HTMLModel",
          "state": {
            "_dom_classes": [],
            "_model_module": "@jupyter-widgets/controls",
            "_model_module_version": "1.5.0",
            "_model_name": "HTMLModel",
            "_view_count": null,
            "_view_module": "@jupyter-widgets/controls",
            "_view_module_version": "1.5.0",
            "_view_name": "HTMLView",
            "description": "",
            "description_tooltip": null,
            "layout": "IPY_MODEL_94814496aee045a99e503b5b256af656",
            "placeholder": "​",
            "style": "IPY_MODEL_f93ae57dd5c54f9c8e49755abaf243fa",
            "value": "tokenizer.json: 100%"
          }
        },
        "efeb1be19b6c43fcac7e4530b104190d": {
          "model_module": "@jupyter-widgets/base",
          "model_module_version": "1.2.0",
          "model_name": "LayoutModel",
          "state": {
            "_model_module": "@jupyter-widgets/base",
            "_model_module_version": "1.2.0",
            "_model_name": "LayoutModel",
            "_view_count": null,
            "_view_module": "@jupyter-widgets/base",
            "_view_module_version": "1.2.0",
            "_view_name": "LayoutView",
            "align_content": null,
            "align_items": null,
            "align_self": null,
            "border": null,
            "bottom": null,
            "display": null,
            "flex": null,
            "flex_flow": null,
            "grid_area": null,
            "grid_auto_columns": null,
            "grid_auto_flow": null,
            "grid_auto_rows": null,
            "grid_column": null,
            "grid_gap": null,
            "grid_row": null,
            "grid_template_areas": null,
            "grid_template_columns": null,
            "grid_template_rows": null,
            "height": null,
            "justify_content": null,
            "justify_items": null,
            "left": null,
            "margin": null,
            "max_height": null,
            "max_width": null,
            "min_height": null,
            "min_width": null,
            "object_fit": null,
            "object_position": null,
            "order": null,
            "overflow": null,
            "overflow_x": null,
            "overflow_y": null,
            "padding": null,
            "right": null,
            "top": null,
            "visibility": null,
            "width": null
          }
        },
        "f160a43dc68547008c40db3903cd36fd": {
          "model_module": "@jupyter-widgets/controls",
          "model_module_version": "1.5.0",
          "model_name": "DescriptionStyleModel",
          "state": {
            "_model_module": "@jupyter-widgets/controls",
            "_model_module_version": "1.5.0",
            "_model_name": "DescriptionStyleModel",
            "_view_count": null,
            "_view_module": "@jupyter-widgets/base",
            "_view_module_version": "1.2.0",
            "_view_name": "StyleView",
            "description_width": ""
          }
        },
        "f6b329d1d82a43d8b9f0294c89fdb2bb": {
          "model_module": "@jupyter-widgets/base",
          "model_module_version": "1.2.0",
          "model_name": "LayoutModel",
          "state": {
            "_model_module": "@jupyter-widgets/base",
            "_model_module_version": "1.2.0",
            "_model_name": "LayoutModel",
            "_view_count": null,
            "_view_module": "@jupyter-widgets/base",
            "_view_module_version": "1.2.0",
            "_view_name": "LayoutView",
            "align_content": null,
            "align_items": null,
            "align_self": null,
            "border": null,
            "bottom": null,
            "display": null,
            "flex": null,
            "flex_flow": null,
            "grid_area": null,
            "grid_auto_columns": null,
            "grid_auto_flow": null,
            "grid_auto_rows": null,
            "grid_column": null,
            "grid_gap": null,
            "grid_row": null,
            "grid_template_areas": null,
            "grid_template_columns": null,
            "grid_template_rows": null,
            "height": null,
            "justify_content": null,
            "justify_items": null,
            "left": null,
            "margin": null,
            "max_height": null,
            "max_width": null,
            "min_height": null,
            "min_width": null,
            "object_fit": null,
            "object_position": null,
            "order": null,
            "overflow": null,
            "overflow_x": null,
            "overflow_y": null,
            "padding": null,
            "right": null,
            "top": null,
            "visibility": null,
            "width": null
          }
        },
        "f93ae57dd5c54f9c8e49755abaf243fa": {
          "model_module": "@jupyter-widgets/controls",
          "model_module_version": "1.5.0",
          "model_name": "DescriptionStyleModel",
          "state": {
            "_model_module": "@jupyter-widgets/controls",
            "_model_module_version": "1.5.0",
            "_model_name": "DescriptionStyleModel",
            "_view_count": null,
            "_view_module": "@jupyter-widgets/base",
            "_view_module_version": "1.2.0",
            "_view_name": "StyleView",
            "description_width": ""
          }
        },
        "fb6c3b80cb144baeb68ae8939c993b82": {
          "model_module": "@jupyter-widgets/controls",
          "model_module_version": "1.5.0",
          "model_name": "DescriptionStyleModel",
          "state": {
            "_model_module": "@jupyter-widgets/controls",
            "_model_module_version": "1.5.0",
            "_model_name": "DescriptionStyleModel",
            "_view_count": null,
            "_view_module": "@jupyter-widgets/base",
            "_view_module_version": "1.2.0",
            "_view_name": "StyleView",
            "description_width": ""
          }
        },
        "fc74994f83de46d18001316fba12ad56": {
          "model_module": "@jupyter-widgets/base",
          "model_module_version": "1.2.0",
          "model_name": "LayoutModel",
          "state": {
            "_model_module": "@jupyter-widgets/base",
            "_model_module_version": "1.2.0",
            "_model_name": "LayoutModel",
            "_view_count": null,
            "_view_module": "@jupyter-widgets/base",
            "_view_module_version": "1.2.0",
            "_view_name": "LayoutView",
            "align_content": null,
            "align_items": null,
            "align_self": null,
            "border": null,
            "bottom": null,
            "display": null,
            "flex": null,
            "flex_flow": null,
            "grid_area": null,
            "grid_auto_columns": null,
            "grid_auto_flow": null,
            "grid_auto_rows": null,
            "grid_column": null,
            "grid_gap": null,
            "grid_row": null,
            "grid_template_areas": null,
            "grid_template_columns": null,
            "grid_template_rows": null,
            "height": null,
            "justify_content": null,
            "justify_items": null,
            "left": null,
            "margin": null,
            "max_height": null,
            "max_width": null,
            "min_height": null,
            "min_width": null,
            "object_fit": null,
            "object_position": null,
            "order": null,
            "overflow": null,
            "overflow_x": null,
            "overflow_y": null,
            "padding": null,
            "right": null,
            "top": null,
            "visibility": null,
            "width": null
          }
        }
      }
    }
  },
  "nbformat": 4,
  "nbformat_minor": 5
}
